{
 "cells": [
  {
   "cell_type": "markdown",
   "metadata": {},
   "source": [
    "## Data cleaning and plotting project"
   ]
  },
  {
   "cell_type": "markdown",
   "metadata": {},
   "source": [
    "During the summer the Club of Undergraduate Economic Students moved to create a data visualization dashboard of economic data for Miami-Dade county and all of Florida. While I do not know much about what happened with the project, I was motivated enough to apply and do the entry project. This will be a walk-through of the entry project, and the materials will be posted on its respective Github repository."
   ]
  },
  {
   "cell_type": "markdown",
   "metadata": {},
   "source": [
    "### The project"
   ]
  },
  {
   "cell_type": "markdown",
   "metadata": {},
   "source": [
    "Anyone that was interested in participating had to prove their data cleaning and visualization capacities using only Python, and we were given a simple task. Turn a damaged and disorganized data set into a usable one. Let's import it using Pandas and see."
   ]
  },
  {
   "cell_type": "code",
   "execution_count": 1,
   "metadata": {},
   "outputs": [],
   "source": [
    "import pandas as pd\n",
    "import numpy as np"
   ]
  },
  {
   "cell_type": "code",
   "execution_count": 2,
   "metadata": {},
   "outputs": [],
   "source": [
    "df = pd.read_csv('Before.csv')"
   ]
  },
  {
   "cell_type": "code",
   "execution_count": 3,
   "metadata": {},
   "outputs": [
    {
     "data": {
      "text/plain": [
       "(30811, 3)"
      ]
     },
     "execution_count": 3,
     "metadata": {},
     "output_type": "execute_result"
    }
   ],
   "source": [
    "df.shape"
   ]
  },
  {
   "cell_type": "code",
   "execution_count": 4,
   "metadata": {},
   "outputs": [
    {
     "data": {
      "text/html": [
       "<div>\n",
       "<style scoped>\n",
       "    .dataframe tbody tr th:only-of-type {\n",
       "        vertical-align: middle;\n",
       "    }\n",
       "\n",
       "    .dataframe tbody tr th {\n",
       "        vertical-align: top;\n",
       "    }\n",
       "\n",
       "    .dataframe thead th {\n",
       "        text-align: right;\n",
       "    }\n",
       "</style>\n",
       "<table border=\"1\" class=\"dataframe\">\n",
       "  <thead>\n",
       "    <tr style=\"text-align: right;\">\n",
       "      <th></th>\n",
       "      <th>Unnamed: 0</th>\n",
       "      <th>States and selected areas:  Employment status</th>\n",
       "      <th>of the civilian noninstitutional population, January 1976 to date,</th>\n",
       "    </tr>\n",
       "  </thead>\n",
       "  <tbody>\n",
       "    <tr>\n",
       "      <th>0</th>\n",
       "      <td>0</td>\n",
       "      <td>seasonally adjusted</td>\n",
       "      <td>NaN</td>\n",
       "    </tr>\n",
       "    <tr>\n",
       "      <th>1</th>\n",
       "      <td>1</td>\n",
       "      <td>NaN</td>\n",
       "      <td>NaN</td>\n",
       "    </tr>\n",
       "    <tr>\n",
       "      <th>2</th>\n",
       "      <td>2</td>\n",
       "      <td>NaN</td>\n",
       "      <td>NaN</td>\n",
       "    </tr>\n",
       "    <tr>\n",
       "      <th>3</th>\n",
       "      <td>3</td>\n",
       "      <td>NaN</td>\n",
       "      <td>Civilian labor force</td>\n",
       "    </tr>\n",
       "    <tr>\n",
       "      <th>4</th>\n",
       "      <td>4</td>\n",
       "      <td>NaN</td>\n",
       "      <td>NaN</td>\n",
       "    </tr>\n",
       "  </tbody>\n",
       "</table>\n",
       "</div>"
      ],
      "text/plain": [
       "   Unnamed: 0 States and selected areas:  Employment status  \\\n",
       "0           0                           seasonally adjusted   \n",
       "1           1                                           NaN   \n",
       "2           2                                           NaN   \n",
       "3           3                                           NaN   \n",
       "4           4                                           NaN   \n",
       "\n",
       "  of the civilian noninstitutional population, January 1976 to date,  \n",
       "0                                                NaN                  \n",
       "1                                                NaN                  \n",
       "2                                                NaN                  \n",
       "3                               Civilian labor force                  \n",
       "4                                                NaN                  "
      ]
     },
     "execution_count": 4,
     "metadata": {},
     "output_type": "execute_result"
    }
   ],
   "source": [
    "df.head()"
   ]
  },
  {
   "cell_type": "markdown",
   "metadata": {},
   "source": [
    "Oh no.\n",
    "\n",
    "Using .head() is useful, but I still don't know what the data actually looks like. Let's try seeing more."
   ]
  },
  {
   "cell_type": "code",
   "execution_count": 5,
   "metadata": {},
   "outputs": [
    {
     "data": {
      "text/html": [
       "<div>\n",
       "<style scoped>\n",
       "    .dataframe tbody tr th:only-of-type {\n",
       "        vertical-align: middle;\n",
       "    }\n",
       "\n",
       "    .dataframe tbody tr th {\n",
       "        vertical-align: top;\n",
       "    }\n",
       "\n",
       "    .dataframe thead th {\n",
       "        text-align: right;\n",
       "    }\n",
       "</style>\n",
       "<table border=\"1\" class=\"dataframe\">\n",
       "  <thead>\n",
       "    <tr style=\"text-align: right;\">\n",
       "      <th></th>\n",
       "      <th>Unnamed: 0</th>\n",
       "      <th>States and selected areas:  Employment status</th>\n",
       "      <th>of the civilian noninstitutional population, January 1976 to date,</th>\n",
       "    </tr>\n",
       "  </thead>\n",
       "  <tbody>\n",
       "    <tr>\n",
       "      <th>0</th>\n",
       "      <td>0</td>\n",
       "      <td>seasonally adjusted</td>\n",
       "      <td>NaN</td>\n",
       "    </tr>\n",
       "    <tr>\n",
       "      <th>1</th>\n",
       "      <td>1</td>\n",
       "      <td>NaN</td>\n",
       "      <td>NaN</td>\n",
       "    </tr>\n",
       "    <tr>\n",
       "      <th>2</th>\n",
       "      <td>2</td>\n",
       "      <td>NaN</td>\n",
       "      <td>NaN</td>\n",
       "    </tr>\n",
       "    <tr>\n",
       "      <th>3</th>\n",
       "      <td>3</td>\n",
       "      <td>NaN</td>\n",
       "      <td>Civilian labor force</td>\n",
       "    </tr>\n",
       "    <tr>\n",
       "      <th>4</th>\n",
       "      <td>4</td>\n",
       "      <td>NaN</td>\n",
       "      <td>NaN</td>\n",
       "    </tr>\n",
       "    <tr>\n",
       "      <th>5</th>\n",
       "      <td>5</td>\n",
       "      <td>NaN</td>\n",
       "      <td>NaN</td>\n",
       "    </tr>\n",
       "    <tr>\n",
       "      <th>6</th>\n",
       "      <td>6</td>\n",
       "      <td>Civilian</td>\n",
       "      <td>Employed              Unemployed</td>\n",
       "    </tr>\n",
       "    <tr>\n",
       "      <th>7</th>\n",
       "      <td>7</td>\n",
       "      <td>State and area            noninsti-</td>\n",
       "      <td>NaN</td>\n",
       "    </tr>\n",
       "    <tr>\n",
       "      <th>8</th>\n",
       "      <td>8</td>\n",
       "      <td>tutional</td>\n",
       "      <td>Percent</td>\n",
       "    </tr>\n",
       "    <tr>\n",
       "      <th>9</th>\n",
       "      <td>9</td>\n",
       "      <td>population</td>\n",
       "      <td>Total        of                    Percent    ...</td>\n",
       "    </tr>\n",
       "    <tr>\n",
       "      <th>10</th>\n",
       "      <td>10</td>\n",
       "      <td>NaN</td>\n",
       "      <td>population     Total        of         Total  ...</td>\n",
       "    </tr>\n",
       "    <tr>\n",
       "      <th>11</th>\n",
       "      <td>11</td>\n",
       "      <td>NaN</td>\n",
       "      <td>population               labor</td>\n",
       "    </tr>\n",
       "    <tr>\n",
       "      <th>12</th>\n",
       "      <td>12</td>\n",
       "      <td>NaN</td>\n",
       "      <td>force</td>\n",
       "    </tr>\n",
       "    <tr>\n",
       "      <th>13</th>\n",
       "      <td>13</td>\n",
       "      <td>NaN</td>\n",
       "      <td>NaN</td>\n",
       "    </tr>\n",
       "    <tr>\n",
       "      <th>14</th>\n",
       "      <td>14</td>\n",
       "      <td>NaN</td>\n",
       "      <td>NaN</td>\n",
       "    </tr>\n",
       "    <tr>\n",
       "      <th>15</th>\n",
       "      <td>15</td>\n",
       "      <td>NaN</td>\n",
       "      <td>January 1976</td>\n",
       "    </tr>\n",
       "    <tr>\n",
       "      <th>16</th>\n",
       "      <td>16</td>\n",
       "      <td>NaN</td>\n",
       "      <td>NaN</td>\n",
       "    </tr>\n",
       "    <tr>\n",
       "      <th>17</th>\n",
       "      <td>17</td>\n",
       "      <td>NaN</td>\n",
       "      <td>NaN</td>\n",
       "    </tr>\n",
       "    <tr>\n",
       "      <th>18</th>\n",
       "      <td>18</td>\n",
       "      <td>Alabama .....................     2,605,000</td>\n",
       "      <td>1,492,409      57.3     1,392,154      53.4   ...</td>\n",
       "    </tr>\n",
       "    <tr>\n",
       "      <th>19</th>\n",
       "      <td>19</td>\n",
       "      <td>Alaska ......................       232,000</td>\n",
       "      <td>159,154      68.6       147,809      63.7     ...</td>\n",
       "    </tr>\n",
       "  </tbody>\n",
       "</table>\n",
       "</div>"
      ],
      "text/plain": [
       "    Unnamed: 0 States and selected areas:  Employment status  \\\n",
       "0            0                           seasonally adjusted   \n",
       "1            1                                           NaN   \n",
       "2            2                                           NaN   \n",
       "3            3                                           NaN   \n",
       "4            4                                           NaN   \n",
       "5            5                                           NaN   \n",
       "6            6                                      Civilian   \n",
       "7            7           State and area            noninsti-   \n",
       "8            8                                      tutional   \n",
       "9            9                                    population   \n",
       "10          10                                           NaN   \n",
       "11          11                                           NaN   \n",
       "12          12                                           NaN   \n",
       "13          13                                           NaN   \n",
       "14          14                                           NaN   \n",
       "15          15                                           NaN   \n",
       "16          16                                           NaN   \n",
       "17          17                                           NaN   \n",
       "18          18   Alabama .....................     2,605,000   \n",
       "19          19   Alaska ......................       232,000   \n",
       "\n",
       "   of the civilian noninstitutional population, January 1976 to date,  \n",
       "0                                                 NaN                  \n",
       "1                                                 NaN                  \n",
       "2                                                 NaN                  \n",
       "3                                Civilian labor force                  \n",
       "4                                                 NaN                  \n",
       "5                                                 NaN                  \n",
       "6                    Employed              Unemployed                  \n",
       "7                                                 NaN                  \n",
       "8                                             Percent                  \n",
       "9   Total        of                    Percent    ...                  \n",
       "10  population     Total        of         Total  ...                  \n",
       "11                     population               labor                  \n",
       "12                                              force                  \n",
       "13                                                NaN                  \n",
       "14                                                NaN                  \n",
       "15                                       January 1976                  \n",
       "16                                                NaN                  \n",
       "17                                                NaN                  \n",
       "18  1,492,409      57.3     1,392,154      53.4   ...                  \n",
       "19  159,154      68.6       147,809      63.7     ...                  "
      ]
     },
     "execution_count": 5,
     "metadata": {},
     "output_type": "execute_result"
    }
   ],
   "source": [
    "df.head(20)"
   ]
  },
  {
   "cell_type": "code",
   "execution_count": 6,
   "metadata": {},
   "outputs": [
    {
     "data": {
      "text/html": [
       "<div>\n",
       "<style scoped>\n",
       "    .dataframe tbody tr th:only-of-type {\n",
       "        vertical-align: middle;\n",
       "    }\n",
       "\n",
       "    .dataframe tbody tr th {\n",
       "        vertical-align: top;\n",
       "    }\n",
       "\n",
       "    .dataframe thead th {\n",
       "        text-align: right;\n",
       "    }\n",
       "</style>\n",
       "<table border=\"1\" class=\"dataframe\">\n",
       "  <thead>\n",
       "    <tr style=\"text-align: right;\">\n",
       "      <th></th>\n",
       "      <th>Unnamed: 0</th>\n",
       "      <th>States and selected areas:  Employment status</th>\n",
       "      <th>of the civilian noninstitutional population, January 1976 to date,</th>\n",
       "    </tr>\n",
       "  </thead>\n",
       "  <tbody>\n",
       "    <tr>\n",
       "      <th>60</th>\n",
       "      <td>60</td>\n",
       "      <td>South Carolina ..............     1,984,000</td>\n",
       "      <td>1,292,816      65.2     1,195,062      60.2   ...</td>\n",
       "    </tr>\n",
       "    <tr>\n",
       "      <th>61</th>\n",
       "      <td>61</td>\n",
       "      <td>South Dakota ................       477,000</td>\n",
       "      <td>308,735      64.7       298,900      62.7     ...</td>\n",
       "    </tr>\n",
       "    <tr>\n",
       "      <th>62</th>\n",
       "      <td>62</td>\n",
       "      <td>Tennessee ...................     3,078,000</td>\n",
       "      <td>1,819,844      59.1     1,710,143      55.6   ...</td>\n",
       "    </tr>\n",
       "    <tr>\n",
       "      <th>63</th>\n",
       "      <td>63</td>\n",
       "      <td>Texas .......................     8,818,000</td>\n",
       "      <td>5,627,987      63.8     5,298,778      60.1   ...</td>\n",
       "    </tr>\n",
       "    <tr>\n",
       "      <th>64</th>\n",
       "      <td>64</td>\n",
       "      <td>Utah ........................       824,000</td>\n",
       "      <td>519,498      63.0       489,265      59.4     ...</td>\n",
       "    </tr>\n",
       "    <tr>\n",
       "      <th>65</th>\n",
       "      <td>65</td>\n",
       "      <td>Vermont .....................       339,000</td>\n",
       "      <td>213,667      63.0       195,099      57.6     ...</td>\n",
       "    </tr>\n",
       "    <tr>\n",
       "      <th>66</th>\n",
       "      <td>66</td>\n",
       "      <td>Virginia ....................     3,534,000</td>\n",
       "      <td>2,328,545      65.9     2,190,847      62.0   ...</td>\n",
       "    </tr>\n",
       "    <tr>\n",
       "      <th>67</th>\n",
       "      <td>67</td>\n",
       "      <td>Washington ..................     2,598,000</td>\n",
       "      <td>1,584,688      61.0     1,446,319      55.7   ...</td>\n",
       "    </tr>\n",
       "    <tr>\n",
       "      <th>68</th>\n",
       "      <td>68</td>\n",
       "      <td>West Virginia ...............     1,352,000</td>\n",
       "      <td>702,600      52.0       647,491      47.9     ...</td>\n",
       "    </tr>\n",
       "    <tr>\n",
       "      <th>69</th>\n",
       "      <td>69</td>\n",
       "      <td>Wisconsin ...................     3,245,000</td>\n",
       "      <td>2,125,315      65.5     2,003,102      61.7   ...</td>\n",
       "    </tr>\n",
       "    <tr>\n",
       "      <th>70</th>\n",
       "      <td>70</td>\n",
       "      <td>Wyoming .....................       270,000</td>\n",
       "      <td>175,876      65.1       168,592      62.4     ...</td>\n",
       "    </tr>\n",
       "    <tr>\n",
       "      <th>71</th>\n",
       "      <td>71</td>\n",
       "      <td>NaN</td>\n",
       "      <td>NaN</td>\n",
       "    </tr>\n",
       "    <tr>\n",
       "      <th>72</th>\n",
       "      <td>72</td>\n",
       "      <td>NaN</td>\n",
       "      <td>NaN</td>\n",
       "    </tr>\n",
       "    <tr>\n",
       "      <th>73</th>\n",
       "      <td>73</td>\n",
       "      <td>NaN</td>\n",
       "      <td>February 1976</td>\n",
       "    </tr>\n",
       "    <tr>\n",
       "      <th>74</th>\n",
       "      <td>74</td>\n",
       "      <td>NaN</td>\n",
       "      <td>NaN</td>\n",
       "    </tr>\n",
       "    <tr>\n",
       "      <th>75</th>\n",
       "      <td>75</td>\n",
       "      <td>NaN</td>\n",
       "      <td>NaN</td>\n",
       "    </tr>\n",
       "    <tr>\n",
       "      <th>76</th>\n",
       "      <td>76</td>\n",
       "      <td>Alabama .....................     2,610,000</td>\n",
       "      <td>1,491,820      57.2     1,391,975      53.3   ...</td>\n",
       "    </tr>\n",
       "    <tr>\n",
       "      <th>77</th>\n",
       "      <td>77</td>\n",
       "      <td>Alaska ......................       234,000</td>\n",
       "      <td>158,961      67.9       147,666      63.1     ...</td>\n",
       "    </tr>\n",
       "    <tr>\n",
       "      <th>78</th>\n",
       "      <td>78</td>\n",
       "      <td>Arizona .....................     1,626,000</td>\n",
       "      <td>971,753      59.8       871,997      53.6     ...</td>\n",
       "    </tr>\n",
       "    <tr>\n",
       "      <th>79</th>\n",
       "      <td>79</td>\n",
       "      <td>Arkansas ....................     1,538,000</td>\n",
       "      <td>882,316      57.4       817,132      53.1     ...</td>\n",
       "    </tr>\n",
       "  </tbody>\n",
       "</table>\n",
       "</div>"
      ],
      "text/plain": [
       "    Unnamed: 0 States and selected areas:  Employment status  \\\n",
       "60          60   South Carolina ..............     1,984,000   \n",
       "61          61   South Dakota ................       477,000   \n",
       "62          62   Tennessee ...................     3,078,000   \n",
       "63          63   Texas .......................     8,818,000   \n",
       "64          64   Utah ........................       824,000   \n",
       "65          65   Vermont .....................       339,000   \n",
       "66          66   Virginia ....................     3,534,000   \n",
       "67          67   Washington ..................     2,598,000   \n",
       "68          68   West Virginia ...............     1,352,000   \n",
       "69          69   Wisconsin ...................     3,245,000   \n",
       "70          70   Wyoming .....................       270,000   \n",
       "71          71                                           NaN   \n",
       "72          72                                           NaN   \n",
       "73          73                                           NaN   \n",
       "74          74                                           NaN   \n",
       "75          75                                           NaN   \n",
       "76          76   Alabama .....................     2,610,000   \n",
       "77          77   Alaska ......................       234,000   \n",
       "78          78   Arizona .....................     1,626,000   \n",
       "79          79   Arkansas ....................     1,538,000   \n",
       "\n",
       "   of the civilian noninstitutional population, January 1976 to date,  \n",
       "60  1,292,816      65.2     1,195,062      60.2   ...                  \n",
       "61  308,735      64.7       298,900      62.7     ...                  \n",
       "62  1,819,844      59.1     1,710,143      55.6   ...                  \n",
       "63  5,627,987      63.8     5,298,778      60.1   ...                  \n",
       "64  519,498      63.0       489,265      59.4     ...                  \n",
       "65  213,667      63.0       195,099      57.6     ...                  \n",
       "66  2,328,545      65.9     2,190,847      62.0   ...                  \n",
       "67  1,584,688      61.0     1,446,319      55.7   ...                  \n",
       "68  702,600      52.0       647,491      47.9     ...                  \n",
       "69  2,125,315      65.5     2,003,102      61.7   ...                  \n",
       "70  175,876      65.1       168,592      62.4     ...                  \n",
       "71                                                NaN                  \n",
       "72                                                NaN                  \n",
       "73                                      February 1976                  \n",
       "74                                                NaN                  \n",
       "75                                                NaN                  \n",
       "76  1,491,820      57.2     1,391,975      53.3   ...                  \n",
       "77  158,961      67.9       147,666      63.1     ...                  \n",
       "78  971,753      59.8       871,997      53.6     ...                  \n",
       "79  882,316      57.4       817,132      53.1     ...                  "
      ]
     },
     "execution_count": 6,
     "metadata": {},
     "output_type": "execute_result"
    }
   ],
   "source": [
    "df[60:80]"
   ]
  },
  {
   "cell_type": "markdown",
   "metadata": {},
   "source": [
    "Let's take a good look at this.\n",
    "\n",
    "There is an unnamed column which seems to represent the index of the rows. In retrospect, I could have specified the `index_col=0` argument in the second cell, but when I did this about two months ago I didn't do that. I digress. It also appears that the column titles are not indicative of the data they host. Further, there are column names from index 0 to 11 sort of haphazardly placed with the dates about 3 rows above the actual data. \n",
    "\n",
    "Even worse, the state name and the population data is in the same column separated by a bunch of periods. The rest of the data follows it and it's all packed together. Whoever destroyed this data clearly did so with malicious intent. Also, between the monthly data is separated by a bunch of whitespace with the dates in the 3rd row."
   ]
  },
  {
   "cell_type": "markdown",
   "metadata": {},
   "source": [
    "In the email containing this entry project, I was also given a spreadsheet showing what the end result should look like. Let's bring it into our notebook and see what this should look like."
   ]
  },
  {
   "cell_type": "code",
   "execution_count": 7,
   "metadata": {},
   "outputs": [],
   "source": [
    "after = pd.read_csv('After.csv', index_col=0)"
   ]
  },
  {
   "cell_type": "code",
   "execution_count": 8,
   "metadata": {},
   "outputs": [
    {
     "data": {
      "text/html": [
       "<div>\n",
       "<style scoped>\n",
       "    .dataframe tbody tr th:only-of-type {\n",
       "        vertical-align: middle;\n",
       "    }\n",
       "\n",
       "    .dataframe tbody tr th {\n",
       "        vertical-align: top;\n",
       "    }\n",
       "\n",
       "    .dataframe thead th {\n",
       "        text-align: right;\n",
       "    }\n",
       "</style>\n",
       "<table border=\"1\" class=\"dataframe\">\n",
       "  <thead>\n",
       "    <tr style=\"text-align: right;\">\n",
       "      <th></th>\n",
       "      <th>State/Area</th>\n",
       "      <th>Population</th>\n",
       "      <th>Labor Force</th>\n",
       "      <th>Labor Force %</th>\n",
       "      <th>Employed</th>\n",
       "      <th>Employment of Tot Pop %</th>\n",
       "      <th>Unemployed</th>\n",
       "      <th>Unemployment Rate</th>\n",
       "      <th>Date</th>\n",
       "    </tr>\n",
       "  </thead>\n",
       "  <tbody>\n",
       "    <tr>\n",
       "      <th>0</th>\n",
       "      <td>Alaska</td>\n",
       "      <td>232,000</td>\n",
       "      <td>159,154</td>\n",
       "      <td>68.6</td>\n",
       "      <td>147,809</td>\n",
       "      <td>63.7</td>\n",
       "      <td>11,345</td>\n",
       "      <td>7.1</td>\n",
       "      <td>1/1976</td>\n",
       "    </tr>\n",
       "    <tr>\n",
       "      <th>1</th>\n",
       "      <td>Arizona</td>\n",
       "      <td>1,621,000</td>\n",
       "      <td>972,413</td>\n",
       "      <td>60.0</td>\n",
       "      <td>872,738</td>\n",
       "      <td>53.8</td>\n",
       "      <td>99,675</td>\n",
       "      <td>10.3</td>\n",
       "      <td>1/1976</td>\n",
       "    </tr>\n",
       "    <tr>\n",
       "      <th>2</th>\n",
       "      <td>Arkansas</td>\n",
       "      <td>1,536,000</td>\n",
       "      <td>882,835</td>\n",
       "      <td>57.5</td>\n",
       "      <td>817,756</td>\n",
       "      <td>53.2</td>\n",
       "      <td>65,079</td>\n",
       "      <td>7.4</td>\n",
       "      <td>1/1976</td>\n",
       "    </tr>\n",
       "    <tr>\n",
       "      <th>3</th>\n",
       "      <td>California</td>\n",
       "      <td>15,621,000</td>\n",
       "      <td>9,781,720</td>\n",
       "      <td>62.6</td>\n",
       "      <td>8,892,663</td>\n",
       "      <td>56.9</td>\n",
       "      <td>889,057</td>\n",
       "      <td>9.1</td>\n",
       "      <td>1/1976</td>\n",
       "    </tr>\n",
       "    <tr>\n",
       "      <th>4</th>\n",
       "      <td>Los Angeles County</td>\n",
       "      <td>5,273,000</td>\n",
       "      <td>3,375,681</td>\n",
       "      <td>64.0</td>\n",
       "      <td>3,078,200</td>\n",
       "      <td>58.4</td>\n",
       "      <td>297,481</td>\n",
       "      <td>8.8</td>\n",
       "      <td>1/1976</td>\n",
       "    </tr>\n",
       "  </tbody>\n",
       "</table>\n",
       "</div>"
      ],
      "text/plain": [
       "            State/Area   Population Labor Force  Labor Force %   Employed  \\\n",
       "0              Alaska       232,000     159,154           68.6    147,809   \n",
       "1             Arizona     1,621,000     972,413           60.0    872,738   \n",
       "2            Arkansas     1,536,000     882,835           57.5    817,756   \n",
       "3          California    15,621,000   9,781,720           62.6  8,892,663   \n",
       "4  Los Angeles County     5,273,000   3,375,681           64.0  3,078,200   \n",
       "\n",
       "   Employment of Tot Pop % Unemployed  Unemployment Rate    Date  \n",
       "0                     63.7     11,345                7.1  1/1976  \n",
       "1                     53.8     99,675               10.3  1/1976  \n",
       "2                     53.2     65,079                7.4  1/1976  \n",
       "3                     56.9    889,057                9.1  1/1976  \n",
       "4                     58.4    297,481                8.8  1/1976  "
      ]
     },
     "execution_count": 8,
     "metadata": {},
     "output_type": "execute_result"
    }
   ],
   "source": [
    "after.head()"
   ]
  },
  {
   "cell_type": "markdown",
   "metadata": {},
   "source": [
    "Alright so this makes it easy to infer which data is what from `Before.csv`. Let's make a move here and see what we can do."
   ]
  },
  {
   "cell_type": "markdown",
   "metadata": {},
   "source": [
    "Let's delete the whitespace up until index row 15, as well as delete the unnamed index column that is created when using `.to_csv()`."
   ]
  },
  {
   "cell_type": "code",
   "execution_count": 9,
   "metadata": {},
   "outputs": [],
   "source": [
    "df = df.iloc[15:]\n",
    "del df['Unnamed: 0']"
   ]
  },
  {
   "cell_type": "code",
   "execution_count": 10,
   "metadata": {},
   "outputs": [
    {
     "data": {
      "text/html": [
       "<div>\n",
       "<style scoped>\n",
       "    .dataframe tbody tr th:only-of-type {\n",
       "        vertical-align: middle;\n",
       "    }\n",
       "\n",
       "    .dataframe tbody tr th {\n",
       "        vertical-align: top;\n",
       "    }\n",
       "\n",
       "    .dataframe thead th {\n",
       "        text-align: right;\n",
       "    }\n",
       "</style>\n",
       "<table border=\"1\" class=\"dataframe\">\n",
       "  <thead>\n",
       "    <tr style=\"text-align: right;\">\n",
       "      <th></th>\n",
       "      <th>States and selected areas:  Employment status</th>\n",
       "      <th>of the civilian noninstitutional population, January 1976 to date,</th>\n",
       "    </tr>\n",
       "  </thead>\n",
       "  <tbody>\n",
       "    <tr>\n",
       "      <th>15</th>\n",
       "      <td>NaN</td>\n",
       "      <td>January 1976</td>\n",
       "    </tr>\n",
       "    <tr>\n",
       "      <th>16</th>\n",
       "      <td>NaN</td>\n",
       "      <td>NaN</td>\n",
       "    </tr>\n",
       "    <tr>\n",
       "      <th>17</th>\n",
       "      <td>NaN</td>\n",
       "      <td>NaN</td>\n",
       "    </tr>\n",
       "    <tr>\n",
       "      <th>18</th>\n",
       "      <td>Alabama .....................     2,605,000</td>\n",
       "      <td>1,492,409      57.3     1,392,154      53.4   ...</td>\n",
       "    </tr>\n",
       "    <tr>\n",
       "      <th>19</th>\n",
       "      <td>Alaska ......................       232,000</td>\n",
       "      <td>159,154      68.6       147,809      63.7     ...</td>\n",
       "    </tr>\n",
       "  </tbody>\n",
       "</table>\n",
       "</div>"
      ],
      "text/plain": [
       "   States and selected areas:  Employment status  \\\n",
       "15                                           NaN   \n",
       "16                                           NaN   \n",
       "17                                           NaN   \n",
       "18   Alabama .....................     2,605,000   \n",
       "19   Alaska ......................       232,000   \n",
       "\n",
       "   of the civilian noninstitutional population, January 1976 to date,  \n",
       "15                                       January 1976                  \n",
       "16                                                NaN                  \n",
       "17                                                NaN                  \n",
       "18  1,492,409      57.3     1,392,154      53.4   ...                  \n",
       "19  159,154      68.6       147,809      63.7     ...                  "
      ]
     },
     "execution_count": 10,
     "metadata": {},
     "output_type": "execute_result"
    }
   ],
   "source": [
    "df.head()"
   ]
  },
  {
   "cell_type": "markdown",
   "metadata": {},
   "source": [
    "Let's go ahead and assign column names, even if they probably won't be used later on."
   ]
  },
  {
   "cell_type": "code",
   "execution_count": 11,
   "metadata": {},
   "outputs": [],
   "source": [
    "df.columns = ['State/Area_temp', 'temp']"
   ]
  },
  {
   "cell_type": "markdown",
   "metadata": {},
   "source": [
    "At this point, it is unclear if there are multiple spaces separating data in the second column, so we're gonna use `.replace()` with regex to replace multiple spaces with just one to make the usage of `.split()` feasible later on. Then we're gonna go ahead and drop empty rows (based on if `State/Area_temp` has a NaN value) and reset the index."
   ]
  },
  {
   "cell_type": "code",
   "execution_count": 12,
   "metadata": {},
   "outputs": [],
   "source": [
    "df['temp'].replace(r'\\s+', ' ', regex=True, inplace=True)\n",
    "df.dropna(subset=['State/Area_temp'], inplace=True)\n",
    "df.reset_index(drop=True, inplace=True)"
   ]
  },
  {
   "cell_type": "code",
   "execution_count": 13,
   "metadata": {},
   "outputs": [
    {
     "data": {
      "text/html": [
       "<div>\n",
       "<style scoped>\n",
       "    .dataframe tbody tr th:only-of-type {\n",
       "        vertical-align: middle;\n",
       "    }\n",
       "\n",
       "    .dataframe tbody tr th {\n",
       "        vertical-align: top;\n",
       "    }\n",
       "\n",
       "    .dataframe thead th {\n",
       "        text-align: right;\n",
       "    }\n",
       "</style>\n",
       "<table border=\"1\" class=\"dataframe\">\n",
       "  <thead>\n",
       "    <tr style=\"text-align: right;\">\n",
       "      <th></th>\n",
       "      <th>State/Area_temp</th>\n",
       "      <th>temp</th>\n",
       "    </tr>\n",
       "  </thead>\n",
       "  <tbody>\n",
       "    <tr>\n",
       "      <th>0</th>\n",
       "      <td>Alabama .....................     2,605,000</td>\n",
       "      <td>1,492,409 57.3 1,392,154 53.4 100,255 6.7</td>\n",
       "    </tr>\n",
       "    <tr>\n",
       "      <th>1</th>\n",
       "      <td>Alaska ......................       232,000</td>\n",
       "      <td>159,154 68.6 147,809 63.7 11,345 7.1</td>\n",
       "    </tr>\n",
       "    <tr>\n",
       "      <th>2</th>\n",
       "      <td>Arizona .....................     1,621,000</td>\n",
       "      <td>972,413 60.0 872,738 53.8 99,675 10.3</td>\n",
       "    </tr>\n",
       "    <tr>\n",
       "      <th>3</th>\n",
       "      <td>Arkansas ....................     1,536,000</td>\n",
       "      <td>882,835 57.5 817,756 53.2 65,079 7.4</td>\n",
       "    </tr>\n",
       "    <tr>\n",
       "      <th>4</th>\n",
       "      <td>California ..................    15,621,000</td>\n",
       "      <td>9,781,720 62.6 8,892,663 56.9 889,057 9.1</td>\n",
       "    </tr>\n",
       "  </tbody>\n",
       "</table>\n",
       "</div>"
      ],
      "text/plain": [
       "                               State/Area_temp  \\\n",
       "0  Alabama .....................     2,605,000   \n",
       "1  Alaska ......................       232,000   \n",
       "2  Arizona .....................     1,621,000   \n",
       "3  Arkansas ....................     1,536,000   \n",
       "4  California ..................    15,621,000   \n",
       "\n",
       "                                        temp  \n",
       "0  1,492,409 57.3 1,392,154 53.4 100,255 6.7  \n",
       "1       159,154 68.6 147,809 63.7 11,345 7.1  \n",
       "2      972,413 60.0 872,738 53.8 99,675 10.3  \n",
       "3       882,835 57.5 817,756 53.2 65,079 7.4  \n",
       "4  9,781,720 62.6 8,892,663 56.9 889,057 9.1  "
      ]
     },
     "execution_count": 13,
     "metadata": {},
     "output_type": "execute_result"
    }
   ],
   "source": [
    "df.head()"
   ]
  },
  {
   "cell_type": "markdown",
   "metadata": {},
   "source": [
    "Perfect. The data now seems to maintain some semblance of readability and it is (more or less) uniformly separated and displayed in the `temp` column.\n",
    "\n",
    "The next challenge is creating the `Date` column in our spreadsheet. Remember the date was not placed laterally with our data, so we need to figure out a way to put the date in next to our data and have the month go up by one after Wyoming's data was recorded.\n",
    "\n",
    "First I'm going to go ahead and create a column for the date and leave it empty beforehand just to have it ready. I'll convert it to the datetime data type using `.to_datetime()`. Something important to note, the `errors='coerce'` argument forces incorrect parsing, a.k.a. our NaN values to be set as NaT. The default argument is `raise` which will raise an error in the event there is incorrect parsing."
   ]
  },
  {
   "cell_type": "code",
   "execution_count": 14,
   "metadata": {},
   "outputs": [],
   "source": [
    "df['Date'] = np.nan\n",
    "df['Date'] = pd.to_datetime(df['Date'], errors='coerce')"
   ]
  },
  {
   "cell_type": "markdown",
   "metadata": {},
   "source": [
    "This is the tricky part. How do we generate the date and place it next to our data like the end spreadsheet? The way I did it was to figure out which was the first state of each month and grab each of those (with the index intact) and place them in a new dataframe. So, it seems that Alabama is the first entry every month. Note that in the data there are three extra entries: Washington D.C., New York City, and Los Angeles. This means that there are 53 entries every month. \n",
    "\n",
    "Also remember that dataframes are a list of dictionaries, with the key-item pairs being the column name and a list of the respective data. Thus, they can be indexed in a way that we can select every 53rd row (which is Alabama) and place it in another dataframe, which I will call `bridge` because reasons."
   ]
  },
  {
   "cell_type": "code",
   "execution_count": 15,
   "metadata": {},
   "outputs": [],
   "source": [
    "bridge = df[::53]"
   ]
  },
  {
   "cell_type": "code",
   "execution_count": 16,
   "metadata": {},
   "outputs": [
    {
     "data": {
      "text/html": [
       "<div>\n",
       "<style scoped>\n",
       "    .dataframe tbody tr th:only-of-type {\n",
       "        vertical-align: middle;\n",
       "    }\n",
       "\n",
       "    .dataframe tbody tr th {\n",
       "        vertical-align: top;\n",
       "    }\n",
       "\n",
       "    .dataframe thead th {\n",
       "        text-align: right;\n",
       "    }\n",
       "</style>\n",
       "<table border=\"1\" class=\"dataframe\">\n",
       "  <thead>\n",
       "    <tr style=\"text-align: right;\">\n",
       "      <th></th>\n",
       "      <th>State/Area_temp</th>\n",
       "      <th>temp</th>\n",
       "      <th>Date</th>\n",
       "    </tr>\n",
       "  </thead>\n",
       "  <tbody>\n",
       "    <tr>\n",
       "      <th>0</th>\n",
       "      <td>Alabama .....................     2,605,000</td>\n",
       "      <td>1,492,409 57.3 1,392,154 53.4 100,255 6.7</td>\n",
       "      <td>NaT</td>\n",
       "    </tr>\n",
       "    <tr>\n",
       "      <th>53</th>\n",
       "      <td>Alabama .....................     2,610,000</td>\n",
       "      <td>1,491,820 57.2 1,391,975 53.3 99,845 6.7</td>\n",
       "      <td>NaT</td>\n",
       "    </tr>\n",
       "    <tr>\n",
       "      <th>106</th>\n",
       "      <td>Alabama .....................     2,615,000</td>\n",
       "      <td>1,490,600 57.0 1,392,137 53.2 98,463 6.6</td>\n",
       "      <td>NaT</td>\n",
       "    </tr>\n",
       "    <tr>\n",
       "      <th>159</th>\n",
       "      <td>Alabama .....................     2,620,000</td>\n",
       "      <td>1,489,947 56.9 1,393,177 53.2 96,770 6.5</td>\n",
       "      <td>NaT</td>\n",
       "    </tr>\n",
       "    <tr>\n",
       "      <th>212</th>\n",
       "      <td>Alabama .....................     2,626,000</td>\n",
       "      <td>1,490,609 56.8 1,394,591 53.1 96,018 6.4</td>\n",
       "      <td>NaT</td>\n",
       "    </tr>\n",
       "  </tbody>\n",
       "</table>\n",
       "</div>"
      ],
      "text/plain": [
       "                                 State/Area_temp  \\\n",
       "0    Alabama .....................     2,605,000   \n",
       "53   Alabama .....................     2,610,000   \n",
       "106  Alabama .....................     2,615,000   \n",
       "159  Alabama .....................     2,620,000   \n",
       "212  Alabama .....................     2,626,000   \n",
       "\n",
       "                                          temp Date  \n",
       "0    1,492,409 57.3 1,392,154 53.4 100,255 6.7  NaT  \n",
       "53    1,491,820 57.2 1,391,975 53.3 99,845 6.7  NaT  \n",
       "106   1,490,600 57.0 1,392,137 53.2 98,463 6.6  NaT  \n",
       "159   1,489,947 56.9 1,393,177 53.2 96,770 6.5  NaT  \n",
       "212   1,490,609 56.8 1,394,591 53.1 96,018 6.4  NaT  "
      ]
     },
     "execution_count": 16,
     "metadata": {},
     "output_type": "execute_result"
    }
   ],
   "source": [
    "bridge.head()"
   ]
  },
  {
   "cell_type": "markdown",
   "metadata": {},
   "source": [
    "Awesome. The indexing for the rows was kept intact so we can pull some tricks later. \n",
    "\n",
    "Now we want to actually generate the dates in the format we want in a monthly frequency. We can do that by creating another new dataframe (it can probably be done more efficiently but this is how I did it) and set a DatetimeIndex using `.date_range()`. The date range is from 1/1/1976 to 4/1/2020, with `freq='M'` to make sure the interpolation is done monthly."
   ]
  },
  {
   "cell_type": "code",
   "execution_count": 17,
   "metadata": {},
   "outputs": [],
   "source": [
    "date = pd.date_range(start='1/1/1976', end='4/1/2020', freq='M')"
   ]
  },
  {
   "cell_type": "code",
   "execution_count": 18,
   "metadata": {},
   "outputs": [
    {
     "data": {
      "text/plain": [
       "DatetimeIndex(['1976-01-31', '1976-02-29', '1976-03-31', '1976-04-30',\n",
       "               '1976-05-31', '1976-06-30', '1976-07-31', '1976-08-31',\n",
       "               '1976-09-30', '1976-10-31',\n",
       "               ...\n",
       "               '2019-06-30', '2019-07-31', '2019-08-31', '2019-09-30',\n",
       "               '2019-10-31', '2019-11-30', '2019-12-31', '2020-01-31',\n",
       "               '2020-02-29', '2020-03-31'],\n",
       "              dtype='datetime64[ns]', length=531, freq='M')"
      ]
     },
     "execution_count": 18,
     "metadata": {},
     "output_type": "execute_result"
    }
   ],
   "source": [
    "date"
   ]
  },
  {
   "cell_type": "markdown",
   "metadata": {},
   "source": [
    "One detail about `.date_range()` is that the dates generated use the last day of the month when using the monthly frequency. Just a detail to keep in mind which will be addressed later.\n",
    "\n",
    "Now we want our `Date` column to be equal to the DatetimeIndex we just generated. Then we will address that little detail I mentioned above using `.to_datetime()` again. The point is that we use the `.dt.strftime('%Y-%m')` method to turn out datetime data into a string in a specific format, and then pass that into `.to_datetime()` to convert it *back* into datetime format. That converts it to beginning of month dates because when converting a string like '01-1976' into datetime, pandas automatically converts it to '01-01-1976' in datetime. Read more about string formatting for dates [here](https://pandas.pydata.org/pandas-docs/stable/reference/api/pandas.Series.dt.strftime.html)."
   ]
  },
  {
   "cell_type": "code",
   "execution_count": 19,
   "metadata": {},
   "outputs": [
    {
     "name": "stderr",
     "output_type": "stream",
     "text": [
      "D:\\Programs\\Anaconda\\lib\\site-packages\\ipykernel_launcher.py:1: SettingWithCopyWarning: \n",
      "A value is trying to be set on a copy of a slice from a DataFrame.\n",
      "Try using .loc[row_indexer,col_indexer] = value instead\n",
      "\n",
      "See the caveats in the documentation: https://pandas.pydata.org/pandas-docs/stable/user_guide/indexing.html#returning-a-view-versus-a-copy\n",
      "  \"\"\"Entry point for launching an IPython kernel.\n",
      "D:\\Programs\\Anaconda\\lib\\site-packages\\ipykernel_launcher.py:2: SettingWithCopyWarning: \n",
      "A value is trying to be set on a copy of a slice from a DataFrame.\n",
      "Try using .loc[row_indexer,col_indexer] = value instead\n",
      "\n",
      "See the caveats in the documentation: https://pandas.pydata.org/pandas-docs/stable/user_guide/indexing.html#returning-a-view-versus-a-copy\n",
      "  \n"
     ]
    }
   ],
   "source": [
    "bridge['Date'] = date\n",
    "bridge['Date'] = pd.to_datetime(bridge['Date'].dt.strftime('%Y-%m'))"
   ]
  },
  {
   "cell_type": "markdown",
   "metadata": {},
   "source": [
    "I wouldn't worry about that warning. Let's see what happened in our `bridge` dataframe."
   ]
  },
  {
   "cell_type": "code",
   "execution_count": 20,
   "metadata": {},
   "outputs": [
    {
     "data": {
      "text/html": [
       "<div>\n",
       "<style scoped>\n",
       "    .dataframe tbody tr th:only-of-type {\n",
       "        vertical-align: middle;\n",
       "    }\n",
       "\n",
       "    .dataframe tbody tr th {\n",
       "        vertical-align: top;\n",
       "    }\n",
       "\n",
       "    .dataframe thead th {\n",
       "        text-align: right;\n",
       "    }\n",
       "</style>\n",
       "<table border=\"1\" class=\"dataframe\">\n",
       "  <thead>\n",
       "    <tr style=\"text-align: right;\">\n",
       "      <th></th>\n",
       "      <th>State/Area_temp</th>\n",
       "      <th>temp</th>\n",
       "      <th>Date</th>\n",
       "    </tr>\n",
       "  </thead>\n",
       "  <tbody>\n",
       "    <tr>\n",
       "      <th>0</th>\n",
       "      <td>Alabama .....................     2,605,000</td>\n",
       "      <td>1,492,409 57.3 1,392,154 53.4 100,255 6.7</td>\n",
       "      <td>1976-01-01</td>\n",
       "    </tr>\n",
       "    <tr>\n",
       "      <th>53</th>\n",
       "      <td>Alabama .....................     2,610,000</td>\n",
       "      <td>1,491,820 57.2 1,391,975 53.3 99,845 6.7</td>\n",
       "      <td>1976-02-01</td>\n",
       "    </tr>\n",
       "    <tr>\n",
       "      <th>106</th>\n",
       "      <td>Alabama .....................     2,615,000</td>\n",
       "      <td>1,490,600 57.0 1,392,137 53.2 98,463 6.6</td>\n",
       "      <td>1976-03-01</td>\n",
       "    </tr>\n",
       "    <tr>\n",
       "      <th>159</th>\n",
       "      <td>Alabama .....................     2,620,000</td>\n",
       "      <td>1,489,947 56.9 1,393,177 53.2 96,770 6.5</td>\n",
       "      <td>1976-04-01</td>\n",
       "    </tr>\n",
       "    <tr>\n",
       "      <th>212</th>\n",
       "      <td>Alabama .....................     2,626,000</td>\n",
       "      <td>1,490,609 56.8 1,394,591 53.1 96,018 6.4</td>\n",
       "      <td>1976-05-01</td>\n",
       "    </tr>\n",
       "  </tbody>\n",
       "</table>\n",
       "</div>"
      ],
      "text/plain": [
       "                                 State/Area_temp  \\\n",
       "0    Alabama .....................     2,605,000   \n",
       "53   Alabama .....................     2,610,000   \n",
       "106  Alabama .....................     2,615,000   \n",
       "159  Alabama .....................     2,620,000   \n",
       "212  Alabama .....................     2,626,000   \n",
       "\n",
       "                                          temp       Date  \n",
       "0    1,492,409 57.3 1,392,154 53.4 100,255 6.7 1976-01-01  \n",
       "53    1,491,820 57.2 1,391,975 53.3 99,845 6.7 1976-02-01  \n",
       "106   1,490,600 57.0 1,392,137 53.2 98,463 6.6 1976-03-01  \n",
       "159   1,489,947 56.9 1,393,177 53.2 96,770 6.5 1976-04-01  \n",
       "212   1,490,609 56.8 1,394,591 53.1 96,018 6.4 1976-05-01  "
      ]
     },
     "execution_count": 20,
     "metadata": {},
     "output_type": "execute_result"
    }
   ],
   "source": [
    "bridge.head()"
   ]
  },
  {
   "cell_type": "markdown",
   "metadata": {},
   "source": [
    "Great! The format for the dates is 'YYYY-MM-DD' which is the ISO 8601 format for dates. Now we want to put the Alabamas in our `bridge` dataframe back into the original dataframe, with the new filled out `Date` column with it. We're going to replace the rows in the old `df` dataframe with the rows in our `bridge` dataframe by *their index* using `.loc`. If you try doing this without having the same amount of columns in both dataframes, you will probably get an error."
   ]
  },
  {
   "cell_type": "code",
   "execution_count": 21,
   "metadata": {},
   "outputs": [],
   "source": [
    "df.loc[bridge.index] = bridge"
   ]
  },
  {
   "cell_type": "code",
   "execution_count": 22,
   "metadata": {},
   "outputs": [
    {
     "data": {
      "text/html": [
       "<div>\n",
       "<style scoped>\n",
       "    .dataframe tbody tr th:only-of-type {\n",
       "        vertical-align: middle;\n",
       "    }\n",
       "\n",
       "    .dataframe tbody tr th {\n",
       "        vertical-align: top;\n",
       "    }\n",
       "\n",
       "    .dataframe thead th {\n",
       "        text-align: right;\n",
       "    }\n",
       "</style>\n",
       "<table border=\"1\" class=\"dataframe\">\n",
       "  <thead>\n",
       "    <tr style=\"text-align: right;\">\n",
       "      <th></th>\n",
       "      <th>State/Area_temp</th>\n",
       "      <th>temp</th>\n",
       "      <th>Date</th>\n",
       "    </tr>\n",
       "  </thead>\n",
       "  <tbody>\n",
       "    <tr>\n",
       "      <th>0</th>\n",
       "      <td>Alabama .....................     2,605,000</td>\n",
       "      <td>1,492,409 57.3 1,392,154 53.4 100,255 6.7</td>\n",
       "      <td>1976-01-01</td>\n",
       "    </tr>\n",
       "    <tr>\n",
       "      <th>1</th>\n",
       "      <td>Alaska ......................       232,000</td>\n",
       "      <td>159,154 68.6 147,809 63.7 11,345 7.1</td>\n",
       "      <td>NaT</td>\n",
       "    </tr>\n",
       "    <tr>\n",
       "      <th>2</th>\n",
       "      <td>Arizona .....................     1,621,000</td>\n",
       "      <td>972,413 60.0 872,738 53.8 99,675 10.3</td>\n",
       "      <td>NaT</td>\n",
       "    </tr>\n",
       "    <tr>\n",
       "      <th>3</th>\n",
       "      <td>Arkansas ....................     1,536,000</td>\n",
       "      <td>882,835 57.5 817,756 53.2 65,079 7.4</td>\n",
       "      <td>NaT</td>\n",
       "    </tr>\n",
       "    <tr>\n",
       "      <th>4</th>\n",
       "      <td>California ..................    15,621,000</td>\n",
       "      <td>9,781,720 62.6 8,892,663 56.9 889,057 9.1</td>\n",
       "      <td>NaT</td>\n",
       "    </tr>\n",
       "  </tbody>\n",
       "</table>\n",
       "</div>"
      ],
      "text/plain": [
       "                               State/Area_temp  \\\n",
       "0  Alabama .....................     2,605,000   \n",
       "1  Alaska ......................       232,000   \n",
       "2  Arizona .....................     1,621,000   \n",
       "3  Arkansas ....................     1,536,000   \n",
       "4  California ..................    15,621,000   \n",
       "\n",
       "                                        temp       Date  \n",
       "0  1,492,409 57.3 1,392,154 53.4 100,255 6.7 1976-01-01  \n",
       "1       159,154 68.6 147,809 63.7 11,345 7.1        NaT  \n",
       "2      972,413 60.0 872,738 53.8 99,675 10.3        NaT  \n",
       "3       882,835 57.5 817,756 53.2 65,079 7.4        NaT  \n",
       "4  9,781,720 62.6 8,892,663 56.9 889,057 9.1        NaT  "
      ]
     },
     "execution_count": 22,
     "metadata": {},
     "output_type": "execute_result"
    }
   ],
   "source": [
    "df.head()"
   ]
  },
  {
   "cell_type": "code",
   "execution_count": 23,
   "metadata": {},
   "outputs": [
    {
     "data": {
      "text/html": [
       "<div>\n",
       "<style scoped>\n",
       "    .dataframe tbody tr th:only-of-type {\n",
       "        vertical-align: middle;\n",
       "    }\n",
       "\n",
       "    .dataframe tbody tr th {\n",
       "        vertical-align: top;\n",
       "    }\n",
       "\n",
       "    .dataframe thead th {\n",
       "        text-align: right;\n",
       "    }\n",
       "</style>\n",
       "<table border=\"1\" class=\"dataframe\">\n",
       "  <thead>\n",
       "    <tr style=\"text-align: right;\">\n",
       "      <th></th>\n",
       "      <th>State/Area_temp</th>\n",
       "      <th>temp</th>\n",
       "      <th>Date</th>\n",
       "    </tr>\n",
       "  </thead>\n",
       "  <tbody>\n",
       "    <tr>\n",
       "      <th>50</th>\n",
       "      <td>West Virginia ...............     1,352,000</td>\n",
       "      <td>702,600 52.0 647,491 47.9 55,109 7.8</td>\n",
       "      <td>NaT</td>\n",
       "    </tr>\n",
       "    <tr>\n",
       "      <th>51</th>\n",
       "      <td>Wisconsin ...................     3,245,000</td>\n",
       "      <td>2,125,315 65.5 2,003,102 61.7 122,213 5.8</td>\n",
       "      <td>NaT</td>\n",
       "    </tr>\n",
       "    <tr>\n",
       "      <th>52</th>\n",
       "      <td>Wyoming .....................       270,000</td>\n",
       "      <td>175,876 65.1 168,592 62.4 7,284 4.1</td>\n",
       "      <td>NaT</td>\n",
       "    </tr>\n",
       "    <tr>\n",
       "      <th>53</th>\n",
       "      <td>Alabama .....................     2,610,000</td>\n",
       "      <td>1,491,820 57.2 1,391,975 53.3 99,845 6.7</td>\n",
       "      <td>1976-02-01</td>\n",
       "    </tr>\n",
       "    <tr>\n",
       "      <th>54</th>\n",
       "      <td>Alaska ......................       234,000</td>\n",
       "      <td>158,961 67.9 147,666 63.1 11,295 7.1</td>\n",
       "      <td>NaT</td>\n",
       "    </tr>\n",
       "  </tbody>\n",
       "</table>\n",
       "</div>"
      ],
      "text/plain": [
       "                                State/Area_temp  \\\n",
       "50  West Virginia ...............     1,352,000   \n",
       "51  Wisconsin ...................     3,245,000   \n",
       "52  Wyoming .....................       270,000   \n",
       "53  Alabama .....................     2,610,000   \n",
       "54  Alaska ......................       234,000   \n",
       "\n",
       "                                         temp       Date  \n",
       "50       702,600 52.0 647,491 47.9 55,109 7.8        NaT  \n",
       "51  2,125,315 65.5 2,003,102 61.7 122,213 5.8        NaT  \n",
       "52        175,876 65.1 168,592 62.4 7,284 4.1        NaT  \n",
       "53   1,491,820 57.2 1,391,975 53.3 99,845 6.7 1976-02-01  \n",
       "54       158,961 67.9 147,666 63.1 11,295 7.1        NaT  "
      ]
     },
     "execution_count": 23,
     "metadata": {},
     "output_type": "execute_result"
    }
   ],
   "source": [
    "df[50:55]"
   ]
  },
  {
   "cell_type": "markdown",
   "metadata": {},
   "source": [
    "So far things are shaping up. Now we're gonna go ahead and use `.str.split()` to create new columns using whitespace in the `temp` column as a separator. The new columns will be placed in a new dataframe, which I went ahead and called `new_cols` just because. This could also be done in the same dataframe, but I don't want to make any mistakes."
   ]
  },
  {
   "cell_type": "code",
   "execution_count": 24,
   "metadata": {},
   "outputs": [],
   "source": [
    "new_cols = df['temp'].str.split(' ', expand=True)"
   ]
  },
  {
   "cell_type": "code",
   "execution_count": 25,
   "metadata": {},
   "outputs": [
    {
     "data": {
      "text/html": [
       "<div>\n",
       "<style scoped>\n",
       "    .dataframe tbody tr th:only-of-type {\n",
       "        vertical-align: middle;\n",
       "    }\n",
       "\n",
       "    .dataframe tbody tr th {\n",
       "        vertical-align: top;\n",
       "    }\n",
       "\n",
       "    .dataframe thead th {\n",
       "        text-align: right;\n",
       "    }\n",
       "</style>\n",
       "<table border=\"1\" class=\"dataframe\">\n",
       "  <thead>\n",
       "    <tr style=\"text-align: right;\">\n",
       "      <th></th>\n",
       "      <th>0</th>\n",
       "      <th>1</th>\n",
       "      <th>2</th>\n",
       "      <th>3</th>\n",
       "      <th>4</th>\n",
       "      <th>5</th>\n",
       "    </tr>\n",
       "  </thead>\n",
       "  <tbody>\n",
       "    <tr>\n",
       "      <th>0</th>\n",
       "      <td>1,492,409</td>\n",
       "      <td>57.3</td>\n",
       "      <td>1,392,154</td>\n",
       "      <td>53.4</td>\n",
       "      <td>100,255</td>\n",
       "      <td>6.7</td>\n",
       "    </tr>\n",
       "    <tr>\n",
       "      <th>1</th>\n",
       "      <td>159,154</td>\n",
       "      <td>68.6</td>\n",
       "      <td>147,809</td>\n",
       "      <td>63.7</td>\n",
       "      <td>11,345</td>\n",
       "      <td>7.1</td>\n",
       "    </tr>\n",
       "    <tr>\n",
       "      <th>2</th>\n",
       "      <td>972,413</td>\n",
       "      <td>60.0</td>\n",
       "      <td>872,738</td>\n",
       "      <td>53.8</td>\n",
       "      <td>99,675</td>\n",
       "      <td>10.3</td>\n",
       "    </tr>\n",
       "    <tr>\n",
       "      <th>3</th>\n",
       "      <td>882,835</td>\n",
       "      <td>57.5</td>\n",
       "      <td>817,756</td>\n",
       "      <td>53.2</td>\n",
       "      <td>65,079</td>\n",
       "      <td>7.4</td>\n",
       "    </tr>\n",
       "    <tr>\n",
       "      <th>4</th>\n",
       "      <td>9,781,720</td>\n",
       "      <td>62.6</td>\n",
       "      <td>8,892,663</td>\n",
       "      <td>56.9</td>\n",
       "      <td>889,057</td>\n",
       "      <td>9.1</td>\n",
       "    </tr>\n",
       "  </tbody>\n",
       "</table>\n",
       "</div>"
      ],
      "text/plain": [
       "           0     1          2     3        4     5\n",
       "0  1,492,409  57.3  1,392,154  53.4  100,255   6.7\n",
       "1    159,154  68.6    147,809  63.7   11,345   7.1\n",
       "2    972,413  60.0    872,738  53.8   99,675  10.3\n",
       "3    882,835  57.5    817,756  53.2   65,079   7.4\n",
       "4  9,781,720  62.6  8,892,663  56.9  889,057   9.1"
      ]
     },
     "execution_count": 25,
     "metadata": {},
     "output_type": "execute_result"
    }
   ],
   "source": [
    "new_cols.head()"
   ]
  },
  {
   "cell_type": "markdown",
   "metadata": {},
   "source": [
    "Because we know what the end result looks like, we know which data is which. In the `temp` column we have: Labor Force, Labor Force %, Employed, Emloyment of Tot Pop %, Unemployed, Unemployment Rate. We can assign the newly created columns to our old `df` dataframe now and put the appropriate name for the data."
   ]
  },
  {
   "cell_type": "code",
   "execution_count": 26,
   "metadata": {},
   "outputs": [],
   "source": [
    "df['Labor Force'] = new_cols[0]\n",
    "df['Labor Force %'] = new_cols[1]\n",
    "df['Employed'] = new_cols[2]\n",
    "df['Employment of Tot Pop %'] = new_cols[3]\n",
    "df['Unemployed'] = new_cols[4]\n",
    "df['Unemployment Rate'] = new_cols[5]\n",
    "\n",
    "del df['temp']"
   ]
  },
  {
   "cell_type": "code",
   "execution_count": 27,
   "metadata": {},
   "outputs": [
    {
     "data": {
      "text/html": [
       "<div>\n",
       "<style scoped>\n",
       "    .dataframe tbody tr th:only-of-type {\n",
       "        vertical-align: middle;\n",
       "    }\n",
       "\n",
       "    .dataframe tbody tr th {\n",
       "        vertical-align: top;\n",
       "    }\n",
       "\n",
       "    .dataframe thead th {\n",
       "        text-align: right;\n",
       "    }\n",
       "</style>\n",
       "<table border=\"1\" class=\"dataframe\">\n",
       "  <thead>\n",
       "    <tr style=\"text-align: right;\">\n",
       "      <th></th>\n",
       "      <th>State/Area_temp</th>\n",
       "      <th>Date</th>\n",
       "      <th>Labor Force</th>\n",
       "      <th>Labor Force %</th>\n",
       "      <th>Employed</th>\n",
       "      <th>Employment of Tot Pop %</th>\n",
       "      <th>Unemployed</th>\n",
       "      <th>Unemployment Rate</th>\n",
       "    </tr>\n",
       "  </thead>\n",
       "  <tbody>\n",
       "    <tr>\n",
       "      <th>0</th>\n",
       "      <td>Alabama .....................     2,605,000</td>\n",
       "      <td>1976-01-01</td>\n",
       "      <td>1,492,409</td>\n",
       "      <td>57.3</td>\n",
       "      <td>1,392,154</td>\n",
       "      <td>53.4</td>\n",
       "      <td>100,255</td>\n",
       "      <td>6.7</td>\n",
       "    </tr>\n",
       "    <tr>\n",
       "      <th>1</th>\n",
       "      <td>Alaska ......................       232,000</td>\n",
       "      <td>NaT</td>\n",
       "      <td>159,154</td>\n",
       "      <td>68.6</td>\n",
       "      <td>147,809</td>\n",
       "      <td>63.7</td>\n",
       "      <td>11,345</td>\n",
       "      <td>7.1</td>\n",
       "    </tr>\n",
       "    <tr>\n",
       "      <th>2</th>\n",
       "      <td>Arizona .....................     1,621,000</td>\n",
       "      <td>NaT</td>\n",
       "      <td>972,413</td>\n",
       "      <td>60.0</td>\n",
       "      <td>872,738</td>\n",
       "      <td>53.8</td>\n",
       "      <td>99,675</td>\n",
       "      <td>10.3</td>\n",
       "    </tr>\n",
       "    <tr>\n",
       "      <th>3</th>\n",
       "      <td>Arkansas ....................     1,536,000</td>\n",
       "      <td>NaT</td>\n",
       "      <td>882,835</td>\n",
       "      <td>57.5</td>\n",
       "      <td>817,756</td>\n",
       "      <td>53.2</td>\n",
       "      <td>65,079</td>\n",
       "      <td>7.4</td>\n",
       "    </tr>\n",
       "    <tr>\n",
       "      <th>4</th>\n",
       "      <td>California ..................    15,621,000</td>\n",
       "      <td>NaT</td>\n",
       "      <td>9,781,720</td>\n",
       "      <td>62.6</td>\n",
       "      <td>8,892,663</td>\n",
       "      <td>56.9</td>\n",
       "      <td>889,057</td>\n",
       "      <td>9.1</td>\n",
       "    </tr>\n",
       "  </tbody>\n",
       "</table>\n",
       "</div>"
      ],
      "text/plain": [
       "                               State/Area_temp       Date Labor Force  \\\n",
       "0  Alabama .....................     2,605,000 1976-01-01   1,492,409   \n",
       "1  Alaska ......................       232,000        NaT     159,154   \n",
       "2  Arizona .....................     1,621,000        NaT     972,413   \n",
       "3  Arkansas ....................     1,536,000        NaT     882,835   \n",
       "4  California ..................    15,621,000        NaT   9,781,720   \n",
       "\n",
       "  Labor Force %   Employed Employment of Tot Pop % Unemployed  \\\n",
       "0          57.3  1,392,154                    53.4    100,255   \n",
       "1          68.6    147,809                    63.7     11,345   \n",
       "2          60.0    872,738                    53.8     99,675   \n",
       "3          57.5    817,756                    53.2     65,079   \n",
       "4          62.6  8,892,663                    56.9    889,057   \n",
       "\n",
       "  Unemployment Rate  \n",
       "0               6.7  \n",
       "1               7.1  \n",
       "2              10.3  \n",
       "3               7.4  \n",
       "4               9.1  "
      ]
     },
     "execution_count": 27,
     "metadata": {},
     "output_type": "execute_result"
    }
   ],
   "source": [
    "df.head()"
   ]
  },
  {
   "cell_type": "markdown",
   "metadata": {},
   "source": [
    "Now this is starting to look more and more like the end result. We're getting there. Now we need to use the same `.replace()` trick again with the periods *and* whitespaces in `State/Area_temp` to make `str.split()` possible."
   ]
  },
  {
   "cell_type": "code",
   "execution_count": 28,
   "metadata": {},
   "outputs": [],
   "source": [
    "df['State/Area_temp'].replace(r'\\s+', ' ', regex=True, inplace=True)\n",
    "df['State/Area_temp'].replace(r'\\.+', '.', regex=True, inplace=True)"
   ]
  },
  {
   "cell_type": "code",
   "execution_count": 29,
   "metadata": {},
   "outputs": [
    {
     "data": {
      "text/html": [
       "<div>\n",
       "<style scoped>\n",
       "    .dataframe tbody tr th:only-of-type {\n",
       "        vertical-align: middle;\n",
       "    }\n",
       "\n",
       "    .dataframe tbody tr th {\n",
       "        vertical-align: top;\n",
       "    }\n",
       "\n",
       "    .dataframe thead th {\n",
       "        text-align: right;\n",
       "    }\n",
       "</style>\n",
       "<table border=\"1\" class=\"dataframe\">\n",
       "  <thead>\n",
       "    <tr style=\"text-align: right;\">\n",
       "      <th></th>\n",
       "      <th>State/Area_temp</th>\n",
       "      <th>Date</th>\n",
       "      <th>Labor Force</th>\n",
       "      <th>Labor Force %</th>\n",
       "      <th>Employed</th>\n",
       "      <th>Employment of Tot Pop %</th>\n",
       "      <th>Unemployed</th>\n",
       "      <th>Unemployment Rate</th>\n",
       "    </tr>\n",
       "  </thead>\n",
       "  <tbody>\n",
       "    <tr>\n",
       "      <th>0</th>\n",
       "      <td>Alabama . 2,605,000</td>\n",
       "      <td>1976-01-01</td>\n",
       "      <td>1,492,409</td>\n",
       "      <td>57.3</td>\n",
       "      <td>1,392,154</td>\n",
       "      <td>53.4</td>\n",
       "      <td>100,255</td>\n",
       "      <td>6.7</td>\n",
       "    </tr>\n",
       "    <tr>\n",
       "      <th>1</th>\n",
       "      <td>Alaska . 232,000</td>\n",
       "      <td>NaT</td>\n",
       "      <td>159,154</td>\n",
       "      <td>68.6</td>\n",
       "      <td>147,809</td>\n",
       "      <td>63.7</td>\n",
       "      <td>11,345</td>\n",
       "      <td>7.1</td>\n",
       "    </tr>\n",
       "    <tr>\n",
       "      <th>2</th>\n",
       "      <td>Arizona . 1,621,000</td>\n",
       "      <td>NaT</td>\n",
       "      <td>972,413</td>\n",
       "      <td>60.0</td>\n",
       "      <td>872,738</td>\n",
       "      <td>53.8</td>\n",
       "      <td>99,675</td>\n",
       "      <td>10.3</td>\n",
       "    </tr>\n",
       "    <tr>\n",
       "      <th>3</th>\n",
       "      <td>Arkansas . 1,536,000</td>\n",
       "      <td>NaT</td>\n",
       "      <td>882,835</td>\n",
       "      <td>57.5</td>\n",
       "      <td>817,756</td>\n",
       "      <td>53.2</td>\n",
       "      <td>65,079</td>\n",
       "      <td>7.4</td>\n",
       "    </tr>\n",
       "    <tr>\n",
       "      <th>4</th>\n",
       "      <td>California . 15,621,000</td>\n",
       "      <td>NaT</td>\n",
       "      <td>9,781,720</td>\n",
       "      <td>62.6</td>\n",
       "      <td>8,892,663</td>\n",
       "      <td>56.9</td>\n",
       "      <td>889,057</td>\n",
       "      <td>9.1</td>\n",
       "    </tr>\n",
       "  </tbody>\n",
       "</table>\n",
       "</div>"
      ],
      "text/plain": [
       "           State/Area_temp       Date Labor Force Labor Force %   Employed  \\\n",
       "0      Alabama . 2,605,000 1976-01-01   1,492,409          57.3  1,392,154   \n",
       "1         Alaska . 232,000        NaT     159,154          68.6    147,809   \n",
       "2      Arizona . 1,621,000        NaT     972,413          60.0    872,738   \n",
       "3     Arkansas . 1,536,000        NaT     882,835          57.5    817,756   \n",
       "4  California . 15,621,000        NaT   9,781,720          62.6  8,892,663   \n",
       "\n",
       "  Employment of Tot Pop % Unemployed Unemployment Rate  \n",
       "0                    53.4    100,255               6.7  \n",
       "1                    63.7     11,345               7.1  \n",
       "2                    53.8     99,675              10.3  \n",
       "3                    53.2     65,079               7.4  \n",
       "4                    56.9    889,057               9.1  "
      ]
     },
     "execution_count": 29,
     "metadata": {},
     "output_type": "execute_result"
    }
   ],
   "source": [
    "df.head()"
   ]
  },
  {
   "cell_type": "markdown",
   "metadata": {},
   "source": [
    "We can repeat the same protocol when using `.str.split()` and place the new columns in a new dataframe and then assign them back into the original one by creating new columns in `df` and making them equal to the columns in this new dataframe called `sa_new_cols`."
   ]
  },
  {
   "cell_type": "code",
   "execution_count": 30,
   "metadata": {},
   "outputs": [],
   "source": [
    "sa_new_cols = df['State/Area_temp'].str.split('.', expand=True)"
   ]
  },
  {
   "cell_type": "code",
   "execution_count": 31,
   "metadata": {},
   "outputs": [
    {
     "data": {
      "text/html": [
       "<div>\n",
       "<style scoped>\n",
       "    .dataframe tbody tr th:only-of-type {\n",
       "        vertical-align: middle;\n",
       "    }\n",
       "\n",
       "    .dataframe tbody tr th {\n",
       "        vertical-align: top;\n",
       "    }\n",
       "\n",
       "    .dataframe thead th {\n",
       "        text-align: right;\n",
       "    }\n",
       "</style>\n",
       "<table border=\"1\" class=\"dataframe\">\n",
       "  <thead>\n",
       "    <tr style=\"text-align: right;\">\n",
       "      <th></th>\n",
       "      <th>0</th>\n",
       "      <th>1</th>\n",
       "    </tr>\n",
       "  </thead>\n",
       "  <tbody>\n",
       "    <tr>\n",
       "      <th>0</th>\n",
       "      <td>Alabama</td>\n",
       "      <td>2,605,000</td>\n",
       "    </tr>\n",
       "    <tr>\n",
       "      <th>1</th>\n",
       "      <td>Alaska</td>\n",
       "      <td>232,000</td>\n",
       "    </tr>\n",
       "    <tr>\n",
       "      <th>2</th>\n",
       "      <td>Arizona</td>\n",
       "      <td>1,621,000</td>\n",
       "    </tr>\n",
       "    <tr>\n",
       "      <th>3</th>\n",
       "      <td>Arkansas</td>\n",
       "      <td>1,536,000</td>\n",
       "    </tr>\n",
       "    <tr>\n",
       "      <th>4</th>\n",
       "      <td>California</td>\n",
       "      <td>15,621,000</td>\n",
       "    </tr>\n",
       "  </tbody>\n",
       "</table>\n",
       "</div>"
      ],
      "text/plain": [
       "             0            1\n",
       "0     Alabama     2,605,000\n",
       "1      Alaska       232,000\n",
       "2     Arizona     1,621,000\n",
       "3    Arkansas     1,536,000\n",
       "4  California    15,621,000"
      ]
     },
     "execution_count": 31,
     "metadata": {},
     "output_type": "execute_result"
    }
   ],
   "source": [
    "sa_new_cols.head()"
   ]
  },
  {
   "cell_type": "code",
   "execution_count": 32,
   "metadata": {},
   "outputs": [],
   "source": [
    "df['State/Area'] = sa_new_cols[0]\n",
    "df['Population'] = sa_new_cols[1]"
   ]
  },
  {
   "cell_type": "code",
   "execution_count": 33,
   "metadata": {},
   "outputs": [],
   "source": [
    "del df['State/Area_temp']"
   ]
  },
  {
   "cell_type": "code",
   "execution_count": 34,
   "metadata": {},
   "outputs": [
    {
     "data": {
      "text/html": [
       "<div>\n",
       "<style scoped>\n",
       "    .dataframe tbody tr th:only-of-type {\n",
       "        vertical-align: middle;\n",
       "    }\n",
       "\n",
       "    .dataframe tbody tr th {\n",
       "        vertical-align: top;\n",
       "    }\n",
       "\n",
       "    .dataframe thead th {\n",
       "        text-align: right;\n",
       "    }\n",
       "</style>\n",
       "<table border=\"1\" class=\"dataframe\">\n",
       "  <thead>\n",
       "    <tr style=\"text-align: right;\">\n",
       "      <th></th>\n",
       "      <th>Date</th>\n",
       "      <th>Labor Force</th>\n",
       "      <th>Labor Force %</th>\n",
       "      <th>Employed</th>\n",
       "      <th>Employment of Tot Pop %</th>\n",
       "      <th>Unemployed</th>\n",
       "      <th>Unemployment Rate</th>\n",
       "      <th>State/Area</th>\n",
       "      <th>Population</th>\n",
       "    </tr>\n",
       "  </thead>\n",
       "  <tbody>\n",
       "    <tr>\n",
       "      <th>0</th>\n",
       "      <td>1976-01-01</td>\n",
       "      <td>1,492,409</td>\n",
       "      <td>57.3</td>\n",
       "      <td>1,392,154</td>\n",
       "      <td>53.4</td>\n",
       "      <td>100,255</td>\n",
       "      <td>6.7</td>\n",
       "      <td>Alabama</td>\n",
       "      <td>2,605,000</td>\n",
       "    </tr>\n",
       "    <tr>\n",
       "      <th>1</th>\n",
       "      <td>NaT</td>\n",
       "      <td>159,154</td>\n",
       "      <td>68.6</td>\n",
       "      <td>147,809</td>\n",
       "      <td>63.7</td>\n",
       "      <td>11,345</td>\n",
       "      <td>7.1</td>\n",
       "      <td>Alaska</td>\n",
       "      <td>232,000</td>\n",
       "    </tr>\n",
       "    <tr>\n",
       "      <th>2</th>\n",
       "      <td>NaT</td>\n",
       "      <td>972,413</td>\n",
       "      <td>60.0</td>\n",
       "      <td>872,738</td>\n",
       "      <td>53.8</td>\n",
       "      <td>99,675</td>\n",
       "      <td>10.3</td>\n",
       "      <td>Arizona</td>\n",
       "      <td>1,621,000</td>\n",
       "    </tr>\n",
       "    <tr>\n",
       "      <th>3</th>\n",
       "      <td>NaT</td>\n",
       "      <td>882,835</td>\n",
       "      <td>57.5</td>\n",
       "      <td>817,756</td>\n",
       "      <td>53.2</td>\n",
       "      <td>65,079</td>\n",
       "      <td>7.4</td>\n",
       "      <td>Arkansas</td>\n",
       "      <td>1,536,000</td>\n",
       "    </tr>\n",
       "    <tr>\n",
       "      <th>4</th>\n",
       "      <td>NaT</td>\n",
       "      <td>9,781,720</td>\n",
       "      <td>62.6</td>\n",
       "      <td>8,892,663</td>\n",
       "      <td>56.9</td>\n",
       "      <td>889,057</td>\n",
       "      <td>9.1</td>\n",
       "      <td>California</td>\n",
       "      <td>15,621,000</td>\n",
       "    </tr>\n",
       "  </tbody>\n",
       "</table>\n",
       "</div>"
      ],
      "text/plain": [
       "        Date Labor Force Labor Force %   Employed Employment of Tot Pop %  \\\n",
       "0 1976-01-01   1,492,409          57.3  1,392,154                    53.4   \n",
       "1        NaT     159,154          68.6    147,809                    63.7   \n",
       "2        NaT     972,413          60.0    872,738                    53.8   \n",
       "3        NaT     882,835          57.5    817,756                    53.2   \n",
       "4        NaT   9,781,720          62.6  8,892,663                    56.9   \n",
       "\n",
       "  Unemployed Unemployment Rate   State/Area   Population  \n",
       "0    100,255               6.7     Alabama     2,605,000  \n",
       "1     11,345               7.1      Alaska       232,000  \n",
       "2     99,675              10.3     Arizona     1,621,000  \n",
       "3     65,079               7.4    Arkansas     1,536,000  \n",
       "4    889,057               9.1  California    15,621,000  "
      ]
     },
     "execution_count": 34,
     "metadata": {},
     "output_type": "execute_result"
    }
   ],
   "source": [
    "df.head()"
   ]
  },
  {
   "cell_type": "markdown",
   "metadata": {},
   "source": [
    "Let's go ahead and use `.fillna()` with the `method='ffill'` argument to fill in empty cells using data from above ('forward filling')."
   ]
  },
  {
   "cell_type": "code",
   "execution_count": 35,
   "metadata": {},
   "outputs": [],
   "source": [
    "df['Date'].fillna(method='ffill', inplace=True)"
   ]
  },
  {
   "cell_type": "code",
   "execution_count": 36,
   "metadata": {},
   "outputs": [
    {
     "data": {
      "text/html": [
       "<div>\n",
       "<style scoped>\n",
       "    .dataframe tbody tr th:only-of-type {\n",
       "        vertical-align: middle;\n",
       "    }\n",
       "\n",
       "    .dataframe tbody tr th {\n",
       "        vertical-align: top;\n",
       "    }\n",
       "\n",
       "    .dataframe thead th {\n",
       "        text-align: right;\n",
       "    }\n",
       "</style>\n",
       "<table border=\"1\" class=\"dataframe\">\n",
       "  <thead>\n",
       "    <tr style=\"text-align: right;\">\n",
       "      <th></th>\n",
       "      <th>Date</th>\n",
       "      <th>Labor Force</th>\n",
       "      <th>Labor Force %</th>\n",
       "      <th>Employed</th>\n",
       "      <th>Employment of Tot Pop %</th>\n",
       "      <th>Unemployed</th>\n",
       "      <th>Unemployment Rate</th>\n",
       "      <th>State/Area</th>\n",
       "      <th>Population</th>\n",
       "    </tr>\n",
       "  </thead>\n",
       "  <tbody>\n",
       "    <tr>\n",
       "      <th>0</th>\n",
       "      <td>1976-01-01</td>\n",
       "      <td>1,492,409</td>\n",
       "      <td>57.3</td>\n",
       "      <td>1,392,154</td>\n",
       "      <td>53.4</td>\n",
       "      <td>100,255</td>\n",
       "      <td>6.7</td>\n",
       "      <td>Alabama</td>\n",
       "      <td>2,605,000</td>\n",
       "    </tr>\n",
       "    <tr>\n",
       "      <th>1</th>\n",
       "      <td>1976-01-01</td>\n",
       "      <td>159,154</td>\n",
       "      <td>68.6</td>\n",
       "      <td>147,809</td>\n",
       "      <td>63.7</td>\n",
       "      <td>11,345</td>\n",
       "      <td>7.1</td>\n",
       "      <td>Alaska</td>\n",
       "      <td>232,000</td>\n",
       "    </tr>\n",
       "    <tr>\n",
       "      <th>2</th>\n",
       "      <td>1976-01-01</td>\n",
       "      <td>972,413</td>\n",
       "      <td>60.0</td>\n",
       "      <td>872,738</td>\n",
       "      <td>53.8</td>\n",
       "      <td>99,675</td>\n",
       "      <td>10.3</td>\n",
       "      <td>Arizona</td>\n",
       "      <td>1,621,000</td>\n",
       "    </tr>\n",
       "    <tr>\n",
       "      <th>3</th>\n",
       "      <td>1976-01-01</td>\n",
       "      <td>882,835</td>\n",
       "      <td>57.5</td>\n",
       "      <td>817,756</td>\n",
       "      <td>53.2</td>\n",
       "      <td>65,079</td>\n",
       "      <td>7.4</td>\n",
       "      <td>Arkansas</td>\n",
       "      <td>1,536,000</td>\n",
       "    </tr>\n",
       "    <tr>\n",
       "      <th>4</th>\n",
       "      <td>1976-01-01</td>\n",
       "      <td>9,781,720</td>\n",
       "      <td>62.6</td>\n",
       "      <td>8,892,663</td>\n",
       "      <td>56.9</td>\n",
       "      <td>889,057</td>\n",
       "      <td>9.1</td>\n",
       "      <td>California</td>\n",
       "      <td>15,621,000</td>\n",
       "    </tr>\n",
       "  </tbody>\n",
       "</table>\n",
       "</div>"
      ],
      "text/plain": [
       "        Date Labor Force Labor Force %   Employed Employment of Tot Pop %  \\\n",
       "0 1976-01-01   1,492,409          57.3  1,392,154                    53.4   \n",
       "1 1976-01-01     159,154          68.6    147,809                    63.7   \n",
       "2 1976-01-01     972,413          60.0    872,738                    53.8   \n",
       "3 1976-01-01     882,835          57.5    817,756                    53.2   \n",
       "4 1976-01-01   9,781,720          62.6  8,892,663                    56.9   \n",
       "\n",
       "  Unemployed Unemployment Rate   State/Area   Population  \n",
       "0    100,255               6.7     Alabama     2,605,000  \n",
       "1     11,345               7.1      Alaska       232,000  \n",
       "2     99,675              10.3     Arizona     1,621,000  \n",
       "3     65,079               7.4    Arkansas     1,536,000  \n",
       "4    889,057               9.1  California    15,621,000  "
      ]
     },
     "execution_count": 36,
     "metadata": {},
     "output_type": "execute_result"
    }
   ],
   "source": [
    "df.head()"
   ]
  },
  {
   "cell_type": "markdown",
   "metadata": {},
   "source": [
    "Neat! Now we just have to reorganize the data and then we're finished right? Not really. We need to prepare this data for analysis and visualization and it's not quite there yet. That's because the data is still in string format and that is unusable for analysis."
   ]
  },
  {
   "cell_type": "code",
   "execution_count": 37,
   "metadata": {},
   "outputs": [
    {
     "data": {
      "text/plain": [
       "Date                       datetime64[ns]\n",
       "Labor Force                        object\n",
       "Labor Force %                      object\n",
       "Employed                           object\n",
       "Employment of Tot Pop %            object\n",
       "Unemployed                         object\n",
       "Unemployment Rate                  object\n",
       "State/Area                         object\n",
       "Population                         object\n",
       "dtype: object"
      ]
     },
     "execution_count": 37,
     "metadata": {},
     "output_type": "execute_result"
    }
   ],
   "source": [
    "df.dtypes"
   ]
  },
  {
   "cell_type": "markdown",
   "metadata": {},
   "source": [
    "Every column except `State/Area` needs to be converted to either `int` or `float` data types. That way any statistical program or plotting package will recognize the data as numbers and not give you an error. Before that we should use `.str.replace()` to remove any commas, because attempting to use `.astype()` to convert numbers with comma separators in a string will throw an error."
   ]
  },
  {
   "cell_type": "code",
   "execution_count": 38,
   "metadata": {},
   "outputs": [],
   "source": [
    "df['Labor Force'] = df['Labor Force'].str.replace(',', '')\n",
    "df['Employed'] = df['Employed'].str.replace(',', '')\n",
    "df['Unemployed'] = df['Unemployed'].str.replace(',', '')\n",
    "df['Population'] = df['Population'].str.replace(',', '')"
   ]
  },
  {
   "cell_type": "code",
   "execution_count": 39,
   "metadata": {},
   "outputs": [
    {
     "data": {
      "text/html": [
       "<div>\n",
       "<style scoped>\n",
       "    .dataframe tbody tr th:only-of-type {\n",
       "        vertical-align: middle;\n",
       "    }\n",
       "\n",
       "    .dataframe tbody tr th {\n",
       "        vertical-align: top;\n",
       "    }\n",
       "\n",
       "    .dataframe thead th {\n",
       "        text-align: right;\n",
       "    }\n",
       "</style>\n",
       "<table border=\"1\" class=\"dataframe\">\n",
       "  <thead>\n",
       "    <tr style=\"text-align: right;\">\n",
       "      <th></th>\n",
       "      <th>Date</th>\n",
       "      <th>Labor Force</th>\n",
       "      <th>Labor Force %</th>\n",
       "      <th>Employed</th>\n",
       "      <th>Employment of Tot Pop %</th>\n",
       "      <th>Unemployed</th>\n",
       "      <th>Unemployment Rate</th>\n",
       "      <th>State/Area</th>\n",
       "      <th>Population</th>\n",
       "    </tr>\n",
       "  </thead>\n",
       "  <tbody>\n",
       "    <tr>\n",
       "      <th>0</th>\n",
       "      <td>1976-01-01</td>\n",
       "      <td>1492409</td>\n",
       "      <td>57.3</td>\n",
       "      <td>1392154</td>\n",
       "      <td>53.4</td>\n",
       "      <td>100255</td>\n",
       "      <td>6.7</td>\n",
       "      <td>Alabama</td>\n",
       "      <td>2605000</td>\n",
       "    </tr>\n",
       "    <tr>\n",
       "      <th>1</th>\n",
       "      <td>1976-01-01</td>\n",
       "      <td>159154</td>\n",
       "      <td>68.6</td>\n",
       "      <td>147809</td>\n",
       "      <td>63.7</td>\n",
       "      <td>11345</td>\n",
       "      <td>7.1</td>\n",
       "      <td>Alaska</td>\n",
       "      <td>232000</td>\n",
       "    </tr>\n",
       "    <tr>\n",
       "      <th>2</th>\n",
       "      <td>1976-01-01</td>\n",
       "      <td>972413</td>\n",
       "      <td>60.0</td>\n",
       "      <td>872738</td>\n",
       "      <td>53.8</td>\n",
       "      <td>99675</td>\n",
       "      <td>10.3</td>\n",
       "      <td>Arizona</td>\n",
       "      <td>1621000</td>\n",
       "    </tr>\n",
       "    <tr>\n",
       "      <th>3</th>\n",
       "      <td>1976-01-01</td>\n",
       "      <td>882835</td>\n",
       "      <td>57.5</td>\n",
       "      <td>817756</td>\n",
       "      <td>53.2</td>\n",
       "      <td>65079</td>\n",
       "      <td>7.4</td>\n",
       "      <td>Arkansas</td>\n",
       "      <td>1536000</td>\n",
       "    </tr>\n",
       "    <tr>\n",
       "      <th>4</th>\n",
       "      <td>1976-01-01</td>\n",
       "      <td>9781720</td>\n",
       "      <td>62.6</td>\n",
       "      <td>8892663</td>\n",
       "      <td>56.9</td>\n",
       "      <td>889057</td>\n",
       "      <td>9.1</td>\n",
       "      <td>California</td>\n",
       "      <td>15621000</td>\n",
       "    </tr>\n",
       "  </tbody>\n",
       "</table>\n",
       "</div>"
      ],
      "text/plain": [
       "        Date Labor Force Labor Force % Employed Employment of Tot Pop %  \\\n",
       "0 1976-01-01     1492409          57.3  1392154                    53.4   \n",
       "1 1976-01-01      159154          68.6   147809                    63.7   \n",
       "2 1976-01-01      972413          60.0   872738                    53.8   \n",
       "3 1976-01-01      882835          57.5   817756                    53.2   \n",
       "4 1976-01-01     9781720          62.6  8892663                    56.9   \n",
       "\n",
       "  Unemployed Unemployment Rate   State/Area Population  \n",
       "0     100255               6.7     Alabama     2605000  \n",
       "1      11345               7.1      Alaska      232000  \n",
       "2      99675              10.3     Arizona     1621000  \n",
       "3      65079               7.4    Arkansas     1536000  \n",
       "4     889057               9.1  California    15621000  "
      ]
     },
     "execution_count": 39,
     "metadata": {},
     "output_type": "execute_result"
    }
   ],
   "source": [
    "df.head()"
   ]
  },
  {
   "cell_type": "markdown",
   "metadata": {},
   "source": [
    "Now we just have to reassign the data types now and then reorganize the columns. Then this will be ready to use! Note that `.astype()` is finnicky and you must use it in this method if you want to convert your data inplace."
   ]
  },
  {
   "cell_type": "code",
   "execution_count": 40,
   "metadata": {},
   "outputs": [],
   "source": [
    "df['Labor Force'] = df['Labor Force'].astype('int')\n",
    "df['Labor Force %'] = df['Labor Force %'].astype('float')\n",
    "df['Employed'] = df['Employed'].astype('int')\n",
    "df['Employment of Tot Pop %'] = df['Employment of Tot Pop %'].astype('float')\n",
    "df['Unemployed'] = df['Unemployed'].astype('int')\n",
    "df['Unemployment Rate'] = df['Unemployment Rate'].astype('float')\n",
    "df['Population'] = df['Population'].astype('int')"
   ]
  },
  {
   "cell_type": "code",
   "execution_count": 41,
   "metadata": {},
   "outputs": [
    {
     "data": {
      "text/plain": [
       "Date                       datetime64[ns]\n",
       "Labor Force                         int32\n",
       "Labor Force %                     float64\n",
       "Employed                            int32\n",
       "Employment of Tot Pop %           float64\n",
       "Unemployed                          int32\n",
       "Unemployment Rate                 float64\n",
       "State/Area                         object\n",
       "Population                          int32\n",
       "dtype: object"
      ]
     },
     "execution_count": 41,
     "metadata": {},
     "output_type": "execute_result"
    }
   ],
   "source": [
    "df.dtypes"
   ]
  },
  {
   "cell_type": "markdown",
   "metadata": {},
   "source": [
    "Next we reorganize the columns by creating a list with the columns in the order we want and then reassign the ordering."
   ]
  },
  {
   "cell_type": "code",
   "execution_count": 42,
   "metadata": {},
   "outputs": [],
   "source": [
    "cols = ['State/Area', 'Population', 'Labor Force', 'Labor Force %', 'Employed', 'Employment of Tot Pop %', 'Unemployed', 'Unemployment Rate', 'Date']\n",
    "df = df[cols]"
   ]
  },
  {
   "cell_type": "markdown",
   "metadata": {},
   "source": [
    "One last passthrough on `State/Area` just to make sure there are absolutely zero whitespaces. `str.strip()` will finish this off."
   ]
  },
  {
   "cell_type": "code",
   "execution_count": 43,
   "metadata": {},
   "outputs": [],
   "source": [
    "df['State/Area'] = df['State/Area'].str.strip()"
   ]
  },
  {
   "cell_type": "markdown",
   "metadata": {},
   "source": [
    "One last look before committing."
   ]
  },
  {
   "cell_type": "code",
   "execution_count": 44,
   "metadata": {},
   "outputs": [
    {
     "data": {
      "text/html": [
       "<div>\n",
       "<style scoped>\n",
       "    .dataframe tbody tr th:only-of-type {\n",
       "        vertical-align: middle;\n",
       "    }\n",
       "\n",
       "    .dataframe tbody tr th {\n",
       "        vertical-align: top;\n",
       "    }\n",
       "\n",
       "    .dataframe thead th {\n",
       "        text-align: right;\n",
       "    }\n",
       "</style>\n",
       "<table border=\"1\" class=\"dataframe\">\n",
       "  <thead>\n",
       "    <tr style=\"text-align: right;\">\n",
       "      <th></th>\n",
       "      <th>State/Area</th>\n",
       "      <th>Population</th>\n",
       "      <th>Labor Force</th>\n",
       "      <th>Labor Force %</th>\n",
       "      <th>Employed</th>\n",
       "      <th>Employment of Tot Pop %</th>\n",
       "      <th>Unemployed</th>\n",
       "      <th>Unemployment Rate</th>\n",
       "      <th>Date</th>\n",
       "    </tr>\n",
       "  </thead>\n",
       "  <tbody>\n",
       "    <tr>\n",
       "      <th>0</th>\n",
       "      <td>Alabama</td>\n",
       "      <td>2605000</td>\n",
       "      <td>1492409</td>\n",
       "      <td>57.3</td>\n",
       "      <td>1392154</td>\n",
       "      <td>53.4</td>\n",
       "      <td>100255</td>\n",
       "      <td>6.7</td>\n",
       "      <td>1976-01-01</td>\n",
       "    </tr>\n",
       "    <tr>\n",
       "      <th>1</th>\n",
       "      <td>Alaska</td>\n",
       "      <td>232000</td>\n",
       "      <td>159154</td>\n",
       "      <td>68.6</td>\n",
       "      <td>147809</td>\n",
       "      <td>63.7</td>\n",
       "      <td>11345</td>\n",
       "      <td>7.1</td>\n",
       "      <td>1976-01-01</td>\n",
       "    </tr>\n",
       "    <tr>\n",
       "      <th>2</th>\n",
       "      <td>Arizona</td>\n",
       "      <td>1621000</td>\n",
       "      <td>972413</td>\n",
       "      <td>60.0</td>\n",
       "      <td>872738</td>\n",
       "      <td>53.8</td>\n",
       "      <td>99675</td>\n",
       "      <td>10.3</td>\n",
       "      <td>1976-01-01</td>\n",
       "    </tr>\n",
       "    <tr>\n",
       "      <th>3</th>\n",
       "      <td>Arkansas</td>\n",
       "      <td>1536000</td>\n",
       "      <td>882835</td>\n",
       "      <td>57.5</td>\n",
       "      <td>817756</td>\n",
       "      <td>53.2</td>\n",
       "      <td>65079</td>\n",
       "      <td>7.4</td>\n",
       "      <td>1976-01-01</td>\n",
       "    </tr>\n",
       "    <tr>\n",
       "      <th>4</th>\n",
       "      <td>California</td>\n",
       "      <td>15621000</td>\n",
       "      <td>9781720</td>\n",
       "      <td>62.6</td>\n",
       "      <td>8892663</td>\n",
       "      <td>56.9</td>\n",
       "      <td>889057</td>\n",
       "      <td>9.1</td>\n",
       "      <td>1976-01-01</td>\n",
       "    </tr>\n",
       "  </tbody>\n",
       "</table>\n",
       "</div>"
      ],
      "text/plain": [
       "   State/Area  Population  Labor Force  Labor Force %  Employed  \\\n",
       "0     Alabama     2605000      1492409           57.3   1392154   \n",
       "1      Alaska      232000       159154           68.6    147809   \n",
       "2     Arizona     1621000       972413           60.0    872738   \n",
       "3    Arkansas     1536000       882835           57.5    817756   \n",
       "4  California    15621000      9781720           62.6   8892663   \n",
       "\n",
       "   Employment of Tot Pop %  Unemployed  Unemployment Rate       Date  \n",
       "0                     53.4      100255                6.7 1976-01-01  \n",
       "1                     63.7       11345                7.1 1976-01-01  \n",
       "2                     53.8       99675               10.3 1976-01-01  \n",
       "3                     53.2       65079                7.4 1976-01-01  \n",
       "4                     56.9      889057                9.1 1976-01-01  "
      ]
     },
     "execution_count": 44,
     "metadata": {},
     "output_type": "execute_result"
    }
   ],
   "source": [
    "df.head()"
   ]
  },
  {
   "cell_type": "code",
   "execution_count": 45,
   "metadata": {},
   "outputs": [
    {
     "data": {
      "text/html": [
       "<div>\n",
       "<style scoped>\n",
       "    .dataframe tbody tr th:only-of-type {\n",
       "        vertical-align: middle;\n",
       "    }\n",
       "\n",
       "    .dataframe tbody tr th {\n",
       "        vertical-align: top;\n",
       "    }\n",
       "\n",
       "    .dataframe thead th {\n",
       "        text-align: right;\n",
       "    }\n",
       "</style>\n",
       "<table border=\"1\" class=\"dataframe\">\n",
       "  <thead>\n",
       "    <tr style=\"text-align: right;\">\n",
       "      <th></th>\n",
       "      <th>State/Area</th>\n",
       "      <th>Population</th>\n",
       "      <th>Labor Force</th>\n",
       "      <th>Labor Force %</th>\n",
       "      <th>Employed</th>\n",
       "      <th>Employment of Tot Pop %</th>\n",
       "      <th>Unemployed</th>\n",
       "      <th>Unemployment Rate</th>\n",
       "      <th>Date</th>\n",
       "    </tr>\n",
       "  </thead>\n",
       "  <tbody>\n",
       "    <tr>\n",
       "      <th>28138</th>\n",
       "      <td>Virginia</td>\n",
       "      <td>6698449</td>\n",
       "      <td>4429864</td>\n",
       "      <td>66.1</td>\n",
       "      <td>4282906</td>\n",
       "      <td>63.9</td>\n",
       "      <td>146958</td>\n",
       "      <td>3.3</td>\n",
       "      <td>2020-03-01</td>\n",
       "    </tr>\n",
       "    <tr>\n",
       "      <th>28139</th>\n",
       "      <td>Washington</td>\n",
       "      <td>6078899</td>\n",
       "      <td>3889700</td>\n",
       "      <td>64.0</td>\n",
       "      <td>3692131</td>\n",
       "      <td>60.7</td>\n",
       "      <td>197569</td>\n",
       "      <td>5.1</td>\n",
       "      <td>2020-03-01</td>\n",
       "    </tr>\n",
       "    <tr>\n",
       "      <th>28140</th>\n",
       "      <td>West Virginia</td>\n",
       "      <td>1441638</td>\n",
       "      <td>818064</td>\n",
       "      <td>56.7</td>\n",
       "      <td>768569</td>\n",
       "      <td>53.3</td>\n",
       "      <td>49495</td>\n",
       "      <td>6.1</td>\n",
       "      <td>2020-03-01</td>\n",
       "    </tr>\n",
       "    <tr>\n",
       "      <th>28141</th>\n",
       "      <td>Wisconsin</td>\n",
       "      <td>4649248</td>\n",
       "      <td>3104804</td>\n",
       "      <td>66.8</td>\n",
       "      <td>2999099</td>\n",
       "      <td>64.5</td>\n",
       "      <td>105705</td>\n",
       "      <td>3.4</td>\n",
       "      <td>2020-03-01</td>\n",
       "    </tr>\n",
       "    <tr>\n",
       "      <th>28142</th>\n",
       "      <td>Wyoming</td>\n",
       "      <td>451333</td>\n",
       "      <td>294911</td>\n",
       "      <td>65.3</td>\n",
       "      <td>283862</td>\n",
       "      <td>62.9</td>\n",
       "      <td>11049</td>\n",
       "      <td>3.7</td>\n",
       "      <td>2020-03-01</td>\n",
       "    </tr>\n",
       "  </tbody>\n",
       "</table>\n",
       "</div>"
      ],
      "text/plain": [
       "          State/Area  Population  Labor Force  Labor Force %  Employed  \\\n",
       "28138       Virginia     6698449      4429864           66.1   4282906   \n",
       "28139     Washington     6078899      3889700           64.0   3692131   \n",
       "28140  West Virginia     1441638       818064           56.7    768569   \n",
       "28141      Wisconsin     4649248      3104804           66.8   2999099   \n",
       "28142        Wyoming      451333       294911           65.3    283862   \n",
       "\n",
       "       Employment of Tot Pop %  Unemployed  Unemployment Rate       Date  \n",
       "28138                     63.9      146958                3.3 2020-03-01  \n",
       "28139                     60.7      197569                5.1 2020-03-01  \n",
       "28140                     53.3       49495                6.1 2020-03-01  \n",
       "28141                     64.5      105705                3.4 2020-03-01  \n",
       "28142                     62.9       11049                3.7 2020-03-01  "
      ]
     },
     "execution_count": 45,
     "metadata": {},
     "output_type": "execute_result"
    }
   ],
   "source": [
    "df.tail()"
   ]
  },
  {
   "cell_type": "markdown",
   "metadata": {},
   "source": [
    "That was challenging, but we did it! Let's save this and move onto the next part."
   ]
  },
  {
   "cell_type": "code",
   "execution_count": 46,
   "metadata": {},
   "outputs": [],
   "source": [
    "df.to_csv('processed.csv', index=False)"
   ]
  },
  {
   "cell_type": "markdown",
   "metadata": {},
   "source": [
    "### Plotting"
   ]
  },
  {
   "cell_type": "markdown",
   "metadata": {},
   "source": [
    "We're going to try to plot this data using Plotly! I can't really walk you guys through it as much but I will still post the code here!\n",
    "\n",
    "We will start by importing the modules we need."
   ]
  },
  {
   "cell_type": "code",
   "execution_count": 47,
   "metadata": {},
   "outputs": [],
   "source": [
    "import plotly.graph_objs as go\n",
    "import plotly.offline as pyo"
   ]
  },
  {
   "cell_type": "markdown",
   "metadata": {},
   "source": [
    "We'll be using the same dataset we just cleaned up! Since we know there are no problems with the data we can just go ahead and move on with plotting.\n",
    "\n",
    "Let's say we want to plot the unemployment rate in the Southeast U.S. That includes Florida, Georgia, Tennesee, Alabama, Mississippi, and Louisiana. Sorry South Carolina, you don't count. Not this time.\n",
    "\n",
    "We are going to create new dataframes containing only data from each respective state. Like so:"
   ]
  },
  {
   "cell_type": "code",
   "execution_count": 48,
   "metadata": {},
   "outputs": [],
   "source": [
    "# # # States # # #\n",
    "florida = df[df['State/Area'] == 'Florida']\n",
    "georgia = df[df['State/Area'] == 'Georgia']\n",
    "tennessee = df[df['State/Area'] == 'Tennessee']\n",
    "alabama = df[df['State/Area'] == 'Alabama']\n",
    "mississippi = df[df['State/Area'] == 'Mississippi']\n",
    "louisiana = df[df['State/Area'] == 'Louisiana']\n",
    "# # # States # # #"
   ]
  },
  {
   "cell_type": "markdown",
   "metadata": {},
   "source": [
    "Let's peek at `florida` and see what they're up to."
   ]
  },
  {
   "cell_type": "code",
   "execution_count": 49,
   "metadata": {},
   "outputs": [
    {
     "data": {
      "text/html": [
       "<div>\n",
       "<style scoped>\n",
       "    .dataframe tbody tr th:only-of-type {\n",
       "        vertical-align: middle;\n",
       "    }\n",
       "\n",
       "    .dataframe tbody tr th {\n",
       "        vertical-align: top;\n",
       "    }\n",
       "\n",
       "    .dataframe thead th {\n",
       "        text-align: right;\n",
       "    }\n",
       "</style>\n",
       "<table border=\"1\" class=\"dataframe\">\n",
       "  <thead>\n",
       "    <tr style=\"text-align: right;\">\n",
       "      <th></th>\n",
       "      <th>State/Area</th>\n",
       "      <th>Population</th>\n",
       "      <th>Labor Force</th>\n",
       "      <th>Labor Force %</th>\n",
       "      <th>Employed</th>\n",
       "      <th>Employment of Tot Pop %</th>\n",
       "      <th>Unemployed</th>\n",
       "      <th>Unemployment Rate</th>\n",
       "      <th>Date</th>\n",
       "    </tr>\n",
       "  </thead>\n",
       "  <tbody>\n",
       "    <tr>\n",
       "      <th>10</th>\n",
       "      <td>Florida</td>\n",
       "      <td>6421000</td>\n",
       "      <td>3592149</td>\n",
       "      <td>55.9</td>\n",
       "      <td>3248523</td>\n",
       "      <td>50.6</td>\n",
       "      <td>343626</td>\n",
       "      <td>9.6</td>\n",
       "      <td>1976-01-01</td>\n",
       "    </tr>\n",
       "    <tr>\n",
       "      <th>63</th>\n",
       "      <td>Florida</td>\n",
       "      <td>6437000</td>\n",
       "      <td>3591389</td>\n",
       "      <td>55.8</td>\n",
       "      <td>3247280</td>\n",
       "      <td>50.4</td>\n",
       "      <td>344109</td>\n",
       "      <td>9.6</td>\n",
       "      <td>1976-02-01</td>\n",
       "    </tr>\n",
       "    <tr>\n",
       "      <th>116</th>\n",
       "      <td>Florida</td>\n",
       "      <td>6452000</td>\n",
       "      <td>3591633</td>\n",
       "      <td>55.7</td>\n",
       "      <td>3249159</td>\n",
       "      <td>50.4</td>\n",
       "      <td>342474</td>\n",
       "      <td>9.5</td>\n",
       "      <td>1976-03-01</td>\n",
       "    </tr>\n",
       "    <tr>\n",
       "      <th>169</th>\n",
       "      <td>Florida</td>\n",
       "      <td>6468000</td>\n",
       "      <td>3594014</td>\n",
       "      <td>55.6</td>\n",
       "      <td>3258015</td>\n",
       "      <td>50.4</td>\n",
       "      <td>335999</td>\n",
       "      <td>9.3</td>\n",
       "      <td>1976-04-01</td>\n",
       "    </tr>\n",
       "    <tr>\n",
       "      <th>222</th>\n",
       "      <td>Florida</td>\n",
       "      <td>6483000</td>\n",
       "      <td>3597871</td>\n",
       "      <td>55.5</td>\n",
       "      <td>3269479</td>\n",
       "      <td>50.4</td>\n",
       "      <td>328392</td>\n",
       "      <td>9.1</td>\n",
       "      <td>1976-05-01</td>\n",
       "    </tr>\n",
       "  </tbody>\n",
       "</table>\n",
       "</div>"
      ],
      "text/plain": [
       "    State/Area  Population  Labor Force  Labor Force %  Employed  \\\n",
       "10     Florida     6421000      3592149           55.9   3248523   \n",
       "63     Florida     6437000      3591389           55.8   3247280   \n",
       "116    Florida     6452000      3591633           55.7   3249159   \n",
       "169    Florida     6468000      3594014           55.6   3258015   \n",
       "222    Florida     6483000      3597871           55.5   3269479   \n",
       "\n",
       "     Employment of Tot Pop %  Unemployed  Unemployment Rate       Date  \n",
       "10                      50.6      343626                9.6 1976-01-01  \n",
       "63                      50.4      344109                9.6 1976-02-01  \n",
       "116                     50.4      342474                9.5 1976-03-01  \n",
       "169                     50.4      335999                9.3 1976-04-01  \n",
       "222                     50.4      328392                9.1 1976-05-01  "
      ]
     },
     "execution_count": 49,
     "metadata": {},
     "output_type": "execute_result"
    }
   ],
   "source": [
    "florida.head()"
   ]
  },
  {
   "cell_type": "markdown",
   "metadata": {},
   "source": [
    "Not much, it would seem. If you know a thing or two about plotly.go then you know you have to make each individual trace for each state using `go.Scatter()`. Make sure `mode='lines'` or else you'll be left with a scatter plot. Fill in the `x`, `y`, and `name` parameters as well."
   ]
  },
  {
   "cell_type": "code",
   "execution_count": 50,
   "metadata": {},
   "outputs": [],
   "source": [
    "fl_trace = go.Scatter(x=florida['Date'], y=florida['Unemployment Rate'], mode='lines', name='FL Unemployment Rate (%)')\n",
    "ga_trace = go.Scatter(x=georgia['Date'], y=georgia['Unemployment Rate'], mode='lines', name='GA Unemployment Rate (%)')\n",
    "tn_trace = go.Scatter(x=tennessee['Date'], y=tennessee['Unemployment Rate'], mode='lines', name='TN Unemployment Rate (%)')\n",
    "al_trace = go.Scatter(x=alabama['Date'], y=alabama['Unemployment Rate'], mode='lines', name='AL Unemployment Rate (%)')\n",
    "ms_trace = go.Scatter(x=mississippi['Date'], y=mississippi['Unemployment Rate'], mode='lines', name='MS Unemployment Rate (%)')\n",
    "la_trace = go.Scatter(x=louisiana['Date'], y=louisiana['Unemployment Rate'], mode='lines', name='LA Unemployment Rate (%)')"
   ]
  },
  {
   "cell_type": "markdown",
   "metadata": {},
   "source": [
    "Now we make a new variable called `data` which is a list of the above traces."
   ]
  },
  {
   "cell_type": "code",
   "execution_count": 51,
   "metadata": {},
   "outputs": [],
   "source": [
    "data = [fl_trace, ga_trace, tn_trace, al_trace, ms_trace, la_trace]"
   ]
  },
  {
   "cell_type": "markdown",
   "metadata": {},
   "source": [
    "Now the `layout` variable will be made using `go.Layout()`. I fill out the `title` parameter and fill out the `xaxis` and `yaxis` parameter using `dict(title='')` because that's just how the documentation goes for plotly.go. Using `xaxis={'title': 'Date'}` is also permissible, for example."
   ]
  },
  {
   "cell_type": "code",
   "execution_count": 52,
   "metadata": {},
   "outputs": [],
   "source": [
    "layout = go.Layout(title='Southeastern US Unemployment Rate (%), Monthly (1976-2020)', xaxis=dict(title='Date'), yaxis=dict(title='Unemployment Rate (%)'))"
   ]
  },
  {
   "cell_type": "markdown",
   "metadata": {},
   "source": [
    "Since plotly is actually kind of intuitive, we can just fill in the `data` and `layout` parameters with the conveniently named variables we created. Create a new variable called `fig` and use `go.Figure()` like so."
   ]
  },
  {
   "cell_type": "code",
   "execution_count": 53,
   "metadata": {},
   "outputs": [],
   "source": [
    "fig = go.Figure(data=data, layout=layout)"
   ]
  },
  {
   "cell_type": "markdown",
   "metadata": {},
   "source": [
    "Now just use `pyo.plot()` and make sure to pass the above `fig` variable. Use `filename` to give your newly created html file a name. In this case I use SEUS_unemployment.html."
   ]
  },
  {
   "cell_type": "code",
   "execution_count": 54,
   "metadata": {},
   "outputs": [
    {
     "data": {
      "text/plain": [
       "'SEUS_unemployment.html'"
      ]
     },
     "execution_count": 54,
     "metadata": {},
     "output_type": "execute_result"
    }
   ],
   "source": [
    "pyo.plot(fig, filename='SEUS_unemployment.html')"
   ]
  },
  {
   "cell_type": "markdown",
   "metadata": {},
   "source": [
    "## Author's note"
   ]
  },
  {
   "cell_type": "markdown",
   "metadata": {},
   "source": [
    "That's all of it. Hopefully this gives you guys a good perspective on what data cleaning is all about.\n",
    "\n",
    "Anyone doing econometrics/analysis should know that it's not all glamorous. Someone has to do the dirty work to prepare these datasets/spreadsheets. Data cleaning is an important part of the process. Get affiliated with pandas and numpy to make sure you can do that well. \n",
    "\n",
    "Thanks for reading.\n",
    "\n",
    "*-Luis Hernandez*"
   ]
  }
 ],
 "metadata": {
  "kernelspec": {
   "display_name": "Python 3",
   "language": "python",
   "name": "python3"
  },
  "language_info": {
   "codemirror_mode": {
    "name": "ipython",
    "version": 3
   },
   "file_extension": ".py",
   "mimetype": "text/x-python",
   "name": "python",
   "nbconvert_exporter": "python",
   "pygments_lexer": "ipython3",
   "version": "3.7.6"
  }
 },
 "nbformat": 4,
 "nbformat_minor": 4
}
